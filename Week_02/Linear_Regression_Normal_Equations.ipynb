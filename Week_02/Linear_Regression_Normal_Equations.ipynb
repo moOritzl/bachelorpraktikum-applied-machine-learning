{
 "cells": [
  {
   "metadata": {},
   "cell_type": "markdown",
   "source": [
    "# Week 2\n",
    "## Question 2: Linear Regression via Normal Equations\n"
   ],
   "id": "4198fa8500e24cf0"
  },
  {
   "metadata": {
    "ExecuteTime": {
     "end_time": "2024-10-24T22:16:06.198169Z",
     "start_time": "2024-10-24T22:16:06.191172Z"
    }
   },
   "cell_type": "code",
   "source": [
    "import pandas as pd\n",
    "import numpy as np\n",
    "\n",
    "FEATURES = ['Pumps', 'Interior', 'Restaurant', 'CarWash', 'Highway', 'Intersection', 'Stoplight', 'Gasolines',\n",
    "            'Competitors', 'Income', 'Brand']\n",
    "df = pd.read_csv('GasPrices.csv')"
   ],
   "id": "581285abd5443d9d",
   "outputs": [],
   "execution_count": 128
  },
  {
   "metadata": {},
   "cell_type": "markdown",
   "source": [
    "**'Price'**: The target feature we want to predict.\n",
    "\n",
    "Dropped Features:\n",
    "- **'Unnamed: 0'**: ID column, has no value for prediction.\n",
    "- **'ID'**: ID column, has no value for prediction.\n",
    "- **'Name'**: Name of the gas station, but doesn't help predict price. In large parts the same as 'Brand'.\n",
    "- **'IntersectionStoplight'**: Combines info from 'Intersection' and 'Stoplight', so it is redundant.\n",
    "- **'Zipcode'**: Not useful, we already have other location-based features like 'Highway', 'Intersection', 'Stoplight'.\n",
    "- **'Address'**: Too specific, does not add any useful information for prediction.\n",
    "\n",
    "\n",
    "Kept Features:\n",
    "- **'Pumps'**: Number of pumps, could impact price.\n",
    "- **'Interior', 'Restaurant', 'CarWash'**: Additional services, might influence price.\n",
    "- **'Highway', 'Intersection', 'Stoplight'**: Location info, could affect accessibility and pricing.\n",
    "- **'Gasolines'**: Number of gasoline types offered, could relate to pricing.\n",
    "- **'Competitors'**: Shows if other stations are nearby, can influence pricing.\n",
    "- **'Income'**: Average income in the area, likely related to gas prices.\n",
    "- **'Brand'**: Different brands might price differently.\n"
   ],
   "id": "f08765a8fc7cb464"
  },
  {
   "metadata": {},
   "cell_type": "markdown",
   "source": "Now, we split the data with `pandas.DataFrame.sample`. Before that we convert all features to numerical values with the very easy `pandas.get_dummies`, wich is totally sufficient for this task.",
   "id": "19402016483053be"
  },
  {
   "metadata": {
    "ExecuteTime": {
     "end_time": "2024-10-24T22:16:06.219364Z",
     "start_time": "2024-10-24T22:16:06.206676Z"
    }
   },
   "cell_type": "code",
   "source": [
    "X = df[FEATURES]\n",
    "y = df['Price']\n",
    "\n",
    "Xdata = pd.get_dummies(X).astype(np.float64)\n",
    "\n",
    "Xtrain = Xdata.sample(frac=0.8, axis=0, random_state=420)\n",
    "Xtest = Xdata.drop(Xtrain.index)\n",
    "\n",
    "Ytrain = y.loc[Xtrain.index]\n",
    "Ytest = y.loc[Xtest.index]"
   ],
   "id": "69fe906f0a9ddd94",
   "outputs": [],
   "execution_count": 129
  },
  {
   "metadata": {},
   "cell_type": "markdown",
   "source": "The following is the model for Linear Regression via Normal equation. The method `LinReg_NormEq.fit` takes one of three algorithms for solving linear equations as an optional argument.",
   "id": "8b0f4ab2d96f8a1c"
  },
  {
   "metadata": {
    "ExecuteTime": {
     "end_time": "2024-10-24T22:16:06.272907Z",
     "start_time": "2024-10-24T22:16:06.258946Z"
    }
   },
   "cell_type": "code",
   "source": [
    "class LinReg_NormEq:\n",
    "    def __init__(self):\n",
    "        \"\"\"\n",
    "        Linear Regression model using the Normal Equation.\n",
    "        \"\"\"\n",
    "        self.B = None\n",
    "\n",
    "    def fit(self, X, y, algorithm='gauss'):\n",
    "        \"\"\"\n",
    "        Fit the linear regression model to the given data.\n",
    "        :param X: \n",
    "        :param y: \n",
    "        :param algorithm: \n",
    "        :return: \n",
    "        \"\"\"\n",
    "        ALGORITHMS = ['gauss', 'cholesky', 'qr']\n",
    "        if algorithm not in ALGORITHMS:\n",
    "            raise ValueError(f'Algorithm must be one of {ALGORITHMS}')\n",
    "\n",
    "        X = X.to_numpy()\n",
    "        y = y.to_numpy().reshape(-1, 1)\n",
    "\n",
    "        X = np.hstack([np.ones((X.shape[0], 1)), X])\n",
    "\n",
    "        A = X.T @ X\n",
    "        b = X.T @ y\n",
    "\n",
    "        # we need to avoid zeros on the main diagonal for gauss and make sure the Matrix is positive definite for cholesky, so we regulate it (add λI do make it more stable)\n",
    "        A += 1e-8 * np.eye(A.shape[0])\n",
    "\n",
    "        if algorithm == 'gauss':\n",
    "            self.B = self._gauss(A, b)\n",
    "        elif algorithm == 'cholesky':\n",
    "            self.B = self._cholesky(A, b)\n",
    "        else:\n",
    "            self.B = self._qr(A, b)\n",
    "\n",
    "        # print(f'Shape of B after {algorithm}: {self.B.shape}')  # for debugging reasons\n",
    "\n",
    "    def predict(self, X):\n",
    "        \"\"\"\n",
    "        Predict using the linear regression model.\n",
    "        :param X: \n",
    "        :return: \n",
    "        \"\"\"\n",
    "        if self.B is None:\n",
    "            raise ValueError(\"The model has not been trained yet. Please call fit() first.\")\n",
    "\n",
    "        X = np.hstack([np.ones((X.shape[0], 1)), X])\n",
    "        return X @ self.B\n",
    "\n",
    "    def _gauss(self, A, b):\n",
    "        \"\"\"\n",
    "        Gaussian Elimination algorithm to solve systems of linear equations.\n",
    "        The implementation is largely inspired by the YouTube video: https://youtu.be/gAmMxdI0EKs?si=wrCU1qpLQTnXmsHb\n",
    "        :param A: \n",
    "        :param b: \n",
    "        :return: \n",
    "        \"\"\"\n",
    "        n = len(b)\n",
    "        m = n - 1\n",
    "        i = 0\n",
    "        x = np.zeros(n)\n",
    "\n",
    "        b = b.reshape(-1, 1)\n",
    "\n",
    "        augmented_matrix = np.concatenate((A, b), axis=1)\n",
    "\n",
    "        while i < n:\n",
    "            if augmented_matrix[i][i] == 0.0:\n",
    "                raise ZeroDivisionError(\"Zero on main Diagonal\")\n",
    "\n",
    "            for j in range(i + 1, n):\n",
    "                scaling_factor = augmented_matrix[j][i] / augmented_matrix[i][i]\n",
    "                augmented_matrix[j] = augmented_matrix[j] - (scaling_factor * augmented_matrix[i])\n",
    "            i += 1\n",
    "\n",
    "        x[m] = augmented_matrix[m][n] / augmented_matrix[m][m]\n",
    "\n",
    "        for k in range(n - 2, -1, -1):\n",
    "            x[k] = augmented_matrix[k][n]\n",
    "\n",
    "            for j in range(k + 1, n):\n",
    "                x[k] = x[k] - augmented_matrix[k][j] * x[j]\n",
    "            x[k] = x[k] / augmented_matrix[k][k]\n",
    "\n",
    "        return x.reshape(-1, 1)\n",
    "\n",
    "    def _is_symmetric(self, matrix, tol=1e-10):\n",
    "        return np.allclose(matrix, matrix.T, atol=tol)\n",
    "\n",
    "    def _cholesky(self, A, b):\n",
    "        \"\"\"\n",
    "        Cholesky decomposition algorithm to solve systems of linear equations.\n",
    "        We can use this, because the matrix A is always symmetric (since it is X.T @ X). \n",
    "        :param A: \n",
    "        :param b: \n",
    "        :return: \n",
    "        \"\"\"\n",
    "\n",
    "        n = A.shape[0]\n",
    "        L = np.zeros_like(A)\n",
    "\n",
    "        # inspired from https://github.com/TayssirDo/Cholesky-decomposition, but adjusted to calculate the lower triangular matrix\n",
    "        for i in range(n):\n",
    "            L[i, i] = sqrt(A[i, i])\n",
    "            for j in range(i + 1, n):\n",
    "                L[j, i] = A[j, i] / L[i, i]\n",
    "                A[j, j:] = A[j, j:] - L[j, i] * L[i, j:]\n",
    "\n",
    "        # Solve L * y = b\n",
    "        y = np.linalg.solve(L, b)\n",
    "\n",
    "        # Solve L.T * B = y\n",
    "        B = np.linalg.solve(L.T, y)\n",
    "\n",
    "        return B\n",
    "        # raise NotImplementedError('Cholesky decomposition is not yet implemented.')\n",
    "\n",
    "    def _qr(self, A, b):\n",
    "        \"\"\"\n",
    "        This video could be helpful: https://youtu.be/kpk6x2Z6Nfs?si=t5iBnkaD5Pt5qmPQ\n",
    "        :param A: \n",
    "        :param b: \n",
    "        :return: \n",
    "        \"\"\"\n",
    "\n",
    "        Q = np.zeros_like(A)\n",
    "        # normalize the vectors of A to get Q\n",
    "\n",
    "        # calculate R by linear combination\n",
    "\n",
    "        raise NotImplementedError('QR decomposition is not yet implemented.')"
   ],
   "id": "557f7c672878b6b3",
   "outputs": [],
   "execution_count": 130
  },
  {
   "metadata": {
    "ExecuteTime": {
     "end_time": "2024-10-24T22:16:06.317431Z",
     "start_time": "2024-10-24T22:16:06.311874Z"
    }
   },
   "cell_type": "code",
   "source": [
    "algorithm = 'gauss'\n",
    "\n",
    "model = LinReg_NormEq()\n",
    "\n",
    "model.fit(Xtrain, Ytrain, algorithm=algorithm)\n",
    "\n",
    "Ypred = model.predict(Xtest).ravel()"
   ],
   "id": "40f5862ba59b5cb8",
   "outputs": [],
   "execution_count": 131
  },
  {
   "metadata": {
    "ExecuteTime": {
     "end_time": "2024-10-24T22:16:06.508152Z",
     "start_time": "2024-10-24T22:16:06.356358Z"
    }
   },
   "cell_type": "code",
   "source": [
    "from matplotlib import pyplot as plt\n",
    "\n",
    "residuals = np.abs(Ytest.to_numpy() - Ypred)\n",
    "\n",
    "print(residuals)\n",
    "\n",
    "plt.scatter(Ytest, residuals, color='blue')\n",
    "plt.xlabel('True Value of y (Ytest)')\n",
    "plt.ylabel('Residuals (|y_test - y_pred|)')\n",
    "plt.title(f'Residuals vs True Values of Ytest using {algorithm}')\n",
    "plt.grid(True)\n",
    "plt.show()\n",
    "plt.close()"
   ],
   "id": "a70d89e3291f52c2",
   "outputs": [
    {
     "name": "stdout",
     "output_type": "stream",
     "text": [
      "[0.01691273 0.0286274  0.02036759 0.10395757 0.04935157 0.00393398\n",
      " 0.00976032 0.07690323 0.00260618 0.03748442 0.06997038 0.02048098\n",
      " 0.01461779 0.01167168 0.0558208  0.01296452 0.08515645 0.2522545\n",
      " 0.00695214 0.15497187]\n"
     ]
    },
    {
     "data": {
      "text/plain": [
       "<Figure size 640x480 with 1 Axes>"
      ],
      "image/png": "[encoded data removed]"
     },
     "metadata": {},
     "output_type": "display_data"
    }
   ],
   "execution_count": 132
  },
  {
   "metadata": {
    "ExecuteTime": {
     "end_time": "2024-10-24T22:16:06.573159Z",
     "start_time": "2024-10-24T22:16:06.567116Z"
    }
   },
   "cell_type": "code",
   "source": [
    "from math import sqrt\n",
    "\n",
    "average_residual = residuals.mean()\n",
    "print(f'Average Residual: {average_residual}')\n",
    "\n",
    "\n",
    "def rmse(y_true, y_pred):\n",
    "    return sqrt(np.sum(y_true - y_pred) ** 2 / len(y_true))\n",
    "\n",
    "\n",
    "print(f'RMSE: {rmse(Ytest, Ypred)}')"
   ],
   "id": "1edbcb9d6585ed89",
   "outputs": [
    {
     "name": "stdout",
     "output_type": "stream",
     "text": [
      "Average Residual: 0.051738304753362475\n",
      "RMSE: 0.003477647692618552\n"
     ]
    }
   ],
   "execution_count": 133
  }
 ],
 "metadata": {
  "kernelspec": {
   "display_name": "Python 3",
   "language": "python",
   "name": "python3"
  },
  "language_info": {
   "codemirror_mode": {
    "name": "ipython",
    "version": 2
   },
   "file_extension": ".py",
   "mimetype": "text/x-python",
   "name": "python",
   "nbconvert_exporter": "python",
   "pygments_lexer": "ipython2",
   "version": "2.7.6"
  }
 },
 "nbformat": 4,
 "nbformat_minor": 5
}
