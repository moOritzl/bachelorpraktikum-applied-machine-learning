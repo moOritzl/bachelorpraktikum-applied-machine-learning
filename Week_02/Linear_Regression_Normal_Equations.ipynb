{
 "cells": [
  {
   "metadata": {},
   "cell_type": "markdown",
   "source": [
    "# Week 2\n",
    "## Question 2: Linear Regression via Normal Equations\n"
   ],
   "id": "4198fa8500e24cf0"
  },
  {
   "metadata": {
    "ExecuteTime": {
     "end_time": "2024-10-24T14:53:19.500420Z",
     "start_time": "2024-10-24T14:53:19.493218Z"
    }
   },
   "cell_type": "code",
   "source": [
    "import pandas as pd\n",
    "import numpy as np\n",
    "\n",
    "FEATURES = ['Pumps', 'Interior', 'Restaurant', 'CarWash', 'Highway', 'Intersection', 'Stoplight', 'Gasolines',\n",
    "            'Competitors', 'Income', 'Brand']\n",
    "df = pd.read_csv('GasPrices.csv')"
   ],
   "id": "581285abd5443d9d",
   "outputs": [],
   "execution_count": 268
  },
  {
   "metadata": {},
   "cell_type": "markdown",
   "source": [
    "**'Price'**: The target feature we want to predict.\n",
    "\n",
    "Dropped Features:\n",
    "- **'Unnamed: 0'**: ID column, has no value for prediction.\n",
    "- **'ID'**: ID column, has no value for prediction.\n",
    "- **'Name'**: Name of the gas station, but doesn't help predict price. In large parts the same as 'Brand'.\n",
    "- **'IntersectionStoplight'**: Combines info from 'Intersection' and 'Stoplight', so it is redundant.\n",
    "- **'Zipcode'**: Not useful, we already have other location-based features like 'Highway', 'Intersection', 'Stoplight'.\n",
    "- **'Address'**: Too specific, does not add any useful information for prediction.\n",
    "\n",
    "\n",
    "Kept Features:\n",
    "- **'Pumps'**: Number of pumps, could impact price.\n",
    "- **'Interior', 'Restaurant', 'CarWash'**: Additional services, might influence price.\n",
    "- **'Highway', 'Intersection', 'Stoplight'**: Location info, could affect accessibility and pricing.\n",
    "- **'Gasolines'**: Number of gasoline types offered, could relate to pricing.\n",
    "- **'Competitors'**: Shows if other stations are nearby, can influence pricing.\n",
    "- **'Income'**: Average income in the area, likely related to gas prices.\n",
    "- **'Brand'**: Different brands might price differently.\n"
   ],
   "id": "f08765a8fc7cb464"
  },
  {
   "metadata": {},
   "cell_type": "markdown",
   "source": "Now, we split the data with `pandas.DataFrame.sample`. Before that we convert all features to numerical values with the very easy `pandas.get_dummies`, wich is totally sufficient for this task.",
   "id": "19402016483053be"
  },
  {
   "metadata": {
    "ExecuteTime": {
     "end_time": "2024-10-24T14:53:19.520910Z",
     "start_time": "2024-10-24T14:53:19.506929Z"
    }
   },
   "cell_type": "code",
   "source": [
    "X = df[FEATURES]\n",
    "y = df['Price']\n",
    "\n",
    "Xdata = pd.get_dummies(X).astype(np.float64)\n",
    "\n",
    "# Avoid 0, I think this is unnecessary\n",
    "# Xdata.replace(0, 0.01, inplace=True)\n",
    "\n",
    "Xtrain = Xdata.sample(frac=0.8, axis=0, random_state=420)\n",
    "Xtest = Xdata.drop(Xtrain.index)\n",
    "\n",
    "Ytrain = y.loc[Xtrain.index]\n",
    "Ytest = y.loc[Xtest.index]"
   ],
   "id": "69fe906f0a9ddd94",
   "outputs": [],
   "execution_count": 269
  },
  {
   "metadata": {},
   "cell_type": "markdown",
   "source": "The following is the model for Linear Regression via Normal equation. The method `LinReg_NormEq.fit` takes one of three algorithms for solving linear equations as an optional argument.",
   "id": "8b0f4ab2d96f8a1c"
  },
  {
   "metadata": {
    "ExecuteTime": {
     "end_time": "2024-10-24T14:53:19.569983Z",
     "start_time": "2024-10-24T14:53:19.557057Z"
    }
   },
   "cell_type": "code",
   "source": [
    "class LinReg_NormEq:\n",
    "    def __init__(self):\n",
    "        \"\"\"\n",
    "        Linear Regression model using the Normal Equation.\n",
    "        \"\"\"\n",
    "        self.B = None\n",
    "\n",
    "    def fit(self, X, y, algorithm='gauss'):\n",
    "        \"\"\"\n",
    "        Fit the linear regression model to the given data.\n",
    "        :param X: \n",
    "        :param y: \n",
    "        :param algorithm: \n",
    "        :return: \n",
    "        \"\"\"\n",
    "        ALGORITHMS = ['gauss', 'cholesky', 'QR']\n",
    "        if algorithm not in ALGORITHMS:\n",
    "            raise ValueError(f'Algorithm must be one of {ALGORITHMS}')\n",
    "\n",
    "        X = X.to_numpy()\n",
    "        y = y.to_numpy().reshape(-1, 1)\n",
    "\n",
    "        X = np.hstack([np.ones((X.shape[0], 1)), X])\n",
    "\n",
    "        A = X.T @ X\n",
    "        b = X.T @ y\n",
    "\n",
    "        if algorithm == 'gauss':\n",
    "            self.B = self._gauss(A, b)\n",
    "        elif algorithm == 'cholesky':\n",
    "            self.B = self._cholesky(A, b)\n",
    "        else:\n",
    "            pass\n",
    "\n",
    "        print(f'Shape of B after {algorithm}: {self.B.shape}')  # for debugging reasons\n",
    "\n",
    "    def predict(self, X):\n",
    "        \"\"\"\n",
    "        Predict using the linear regression model.\n",
    "        :param X: \n",
    "        :return: \n",
    "        \"\"\"\n",
    "        if self.B is None:\n",
    "            raise ValueError(\"The model has not been trained yet. Please call fit() first.\")\n",
    "\n",
    "        X = np.hstack([np.ones((X.shape[0], 1)), X])\n",
    "        return (X @ self.B).ravel()  # remove additional dimension with .ravel()\n",
    "\n",
    "    def _gauss(self, A, b):\n",
    "        \"\"\"\n",
    "        Gaussian Elimination algorithm to solve systems of linear equations.\n",
    "        The implementation is largely inspired by the YouTube video: https://youtu.be/gAmMxdI0EKs?si=wrCU1qpLQTnXmsHb\n",
    "        :param A: \n",
    "        :param b: \n",
    "        :return: \n",
    "        \"\"\"\n",
    "        n = len(b)\n",
    "        m = n - 1\n",
    "        i = 0\n",
    "        x = np.zeros(n)\n",
    "\n",
    "        b = b.reshape(-1, 1)\n",
    "\n",
    "        augmented_matrix = np.concatenate((A, b), axis=1)\n",
    "\n",
    "        while i < n:\n",
    "            if augmented_matrix[i][i] == 0.0:\n",
    "                raise ZeroDivisionError(\"Zero on main Diagonal\")\n",
    "\n",
    "            for j in range(i + 1, n):\n",
    "                scaling_factor = augmented_matrix[j][i] / augmented_matrix[i][i]\n",
    "                augmented_matrix[j] = augmented_matrix[j] - (scaling_factor * augmented_matrix[i])\n",
    "            i += 1\n",
    "\n",
    "        x[m] = augmented_matrix[m][n] / augmented_matrix[m][m]\n",
    "\n",
    "        for k in range(n - 2, -1, -1):\n",
    "            x[k] = augmented_matrix[k][n]\n",
    "\n",
    "            for j in range(k + 1, n):\n",
    "                x[k] = x[k] - augmented_matrix[k][j] * x[j]\n",
    "            x[k] = x[k] / augmented_matrix[k][k]\n",
    "\n",
    "        return x.reshape(-1, 1)\n",
    "\n",
    "    def _is_symmetric(self, matrix, tol=1e-10):\n",
    "        return np.allclose(matrix, matrix.T, atol=tol)\n",
    "\n",
    "    def _cholesky(self, A, b):\n",
    "        \"\"\"\n",
    "        Cholesky decomposition algorithm to solve systems of linear equations.\n",
    "        We can use this, because the matrix A is always symmetric (since it is X.T @ X). \n",
    "        :param A: \n",
    "        :param b: \n",
    "        :return: \n",
    "        \"\"\"\n",
    "\n",
    "        # we need to make sure the Matrix is positive definite, so we regulate it (add λI do make it more stable)\n",
    "        A += 1e-8 * np.eye(A.shape[0])\n",
    "\n",
    "        L = np.linalg.cholesky(A)\n",
    "\n",
    "        # Solve L * y = b\n",
    "        y = np.linalg.solve(L, b)\n",
    "\n",
    "        # Solve L.T * B = y\n",
    "        B = np.linalg.solve(L.T, y)\n",
    "\n",
    "        return B\n",
    "        # raise NotImplementedError('Cholesky decomposition is not yet implemented.')\n",
    "\n",
    "\n",
    "def _qr(self, A, b):\n",
    "    raise NotImplementedError('QR decomposition is not yet implemented.')"
   ],
   "id": "557f7c672878b6b3",
   "outputs": [],
   "execution_count": 270
  },
  {
   "metadata": {
    "ExecuteTime": {
     "end_time": "2024-10-24T14:53:19.614363Z",
     "start_time": "2024-10-24T14:53:19.608395Z"
    }
   },
   "cell_type": "code",
   "source": [
    "algorithm = 'cholesky'\n",
    "\n",
    "model = LinReg_NormEq()\n",
    "\n",
    "model.fit(Xtrain, Ytrain, algorithm=algorithm)\n",
    "\n",
    "Ypred = model.predict(Xtest)"
   ],
   "id": "40f5862ba59b5cb8",
   "outputs": [
    {
     "name": "stdout",
     "output_type": "stream",
     "text": [
      "Shape of B after cholesky: (22, 1)\n"
     ]
    }
   ],
   "execution_count": 271
  },
  {
   "metadata": {
    "ExecuteTime": {
     "end_time": "2024-10-24T14:53:19.804574Z",
     "start_time": "2024-10-24T14:53:19.657677Z"
    }
   },
   "cell_type": "code",
   "source": [
    "from matplotlib import pyplot as plt\n",
    "\n",
    "residuals = np.abs(Ytest.to_numpy() - Ypred)\n",
    "\n",
    "print(residuals)\n",
    "\n",
    "plt.scatter(Ytest, residuals, color='blue')\n",
    "plt.xlabel('True Value of y (Ytest)')\n",
    "plt.ylabel('Residuals (|y_test - y_pred|)')\n",
    "plt.title(f'Residuals vs True Values of Ytest using {algorithm}')\n",
    "plt.grid(True)\n",
    "plt.show()\n",
    "plt.close()"
   ],
   "id": "a70d89e3291f52c2",
   "outputs": [
    {
     "name": "stdout",
     "output_type": "stream",
     "text": [
      "[0.01691273 0.0286274  0.02036759 0.10395757 0.04935157 0.00393398\n",
      " 0.00976032 0.07690323 0.00260618 0.03748442 0.06997038 0.02048098\n",
      " 0.01461779 0.01167168 0.0558208  0.01296452 0.08515645 0.2522545\n",
      " 0.00695214 0.15497187]\n"
     ]
    },
    {
     "data": {
      "text/plain": [
       "<Figure size 640x480 with 1 Axes>"
      ],
      "image/png": "[encoded data removed]"
     },
     "metadata": {},
     "output_type": "display_data"
    }
   ],
   "execution_count": 272
  },
  {
   "metadata": {
    "ExecuteTime": {
     "end_time": "2024-10-24T14:53:19.853812Z",
     "start_time": "2024-10-24T14:53:19.848238Z"
    }
   },
   "cell_type": "code",
   "source": [
    "from math import sqrt\n",
    "\n",
    "average_residual = residuals.mean()\n",
    "print(f'Average Residual: {average_residual}')\n",
    "\n",
    "\n",
    "def rmse(y_true, y_pred):\n",
    "    return sqrt(np.sum(y_true - y_pred) ** 2 / len(y_true))\n",
    "\n",
    "\n",
    "print(f'RMSE: {rmse(Ytest, Ypred)}')"
   ],
   "id": "1edbcb9d6585ed89",
   "outputs": [
    {
     "name": "stdout",
     "output_type": "stream",
     "text": [
      "Average Residual: 0.05173830475336255\n",
      "RMSE: 0.0034776476926198924\n"
     ]
    }
   ],
   "execution_count": 273
  }
 ],
 "metadata": {
  "kernelspec": {
   "display_name": "Python 3",
   "language": "python",
   "name": "python3"
  },
  "language_info": {
   "codemirror_mode": {
    "name": "ipython",
    "version": 2
   },
   "file_extension": ".py",
   "mimetype": "text/x-python",
   "name": "python",
   "nbconvert_exporter": "python",
   "pygments_lexer": "ipython2",
   "version": "2.7.6"
  }
 },
 "nbformat": 4,
 "nbformat_minor": 5
}
