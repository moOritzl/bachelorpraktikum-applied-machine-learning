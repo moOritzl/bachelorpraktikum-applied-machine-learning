{
 "cells": [
  {
   "metadata": {},
   "cell_type": "markdown",
   "source": "# Data Pre-Processing",
   "id": "b1058326c23ca24c"
  },
  {
   "cell_type": "code",
   "id": "initial_id",
   "metadata": {
    "collapsed": true,
    "ExecuteTime": {
     "end_time": "2024-11-12T16:59:36.992495Z",
     "start_time": "2024-11-12T16:59:33.525702Z"
    }
   },
   "source": [
    "import pandas as pd\n",
    "import numpy as np\n",
    "import data_handler as dh\n",
    "from ucimlrepo import fetch_ucirepo\n",
    "from matplotlib import pyplot as plt"
   ],
   "outputs": [],
   "execution_count": 37
  },
  {
   "metadata": {
    "ExecuteTime": {
     "end_time": "2024-11-12T16:45:25.736251Z",
     "start_time": "2024-11-12T16:45:19.365638Z"
    }
   },
   "cell_type": "code",
   "source": [
    "bank_marketing = fetch_ucirepo(id=222)\n",
    "X_bank_marketing = bank_marketing.data.features\n",
    "y_bank_marketing = bank_marketing.data.targets\n",
    "\n",
    "wine_quality = fetch_ucirepo(id=186)\n",
    "X_wine_quality = wine_quality.data.features\n",
    "y_wine_quality = wine_quality.data.targets"
   ],
   "id": "1bc6547152f4c9c0",
   "outputs": [],
   "execution_count": 19
  },
  {
   "metadata": {},
   "cell_type": "markdown",
   "source": "We pre-process the bank marketing data like last week.",
   "id": "db3bc2c74b1ab589"
  },
  {
   "metadata": {
    "ExecuteTime": {
     "end_time": "2024-11-12T16:45:25.917326Z",
     "start_time": "2024-11-12T16:45:25.788773Z"
    }
   },
   "cell_type": "code",
   "source": [
    "X_bank_marketing = X_bank_marketing.drop(['month', 'day_of_week'],\n",
    "                                         axis=1)  # drop features without values for prediction\n",
    "\n",
    "X_bank_marketing = X_bank_marketing.fillna(0)\n",
    "\n",
    "X_bank_marketing = pd.get_dummies(X_bank_marketing).astype(np.float64)\n",
    "\n",
    "X_bank_marketing = (X_bank_marketing - X_bank_marketing.min()) / (X_bank_marketing.max() - X_bank_marketing.min())\n",
    "\n",
    "y_bank_marketing.loc[:, 'y'] = y_bank_marketing['y'].map({'no': 0, 'yes': 1}).astype(\n",
    "    np.float64)  # convert targets to numeric values"
   ],
   "id": "8bb8a88ab8298bc4",
   "outputs": [],
   "execution_count": 20
  },
  {
   "metadata": {},
   "cell_type": "markdown",
   "source": "",
   "id": "8cf7cc4647d7794d"
  },
  {
   "metadata": {
    "ExecuteTime": {
     "end_time": "2024-11-12T16:45:25.996012Z",
     "start_time": "2024-11-12T16:45:25.985856Z"
    }
   },
   "cell_type": "code",
   "source": "X_wine_quality = (X_wine_quality - X_wine_quality.min()) / (X_wine_quality.max() - X_wine_quality.min())",
   "id": "2e0bae55cd53f55b",
   "outputs": [],
   "execution_count": 21
  },
  {
   "metadata": {
    "ExecuteTime": {
     "end_time": "2024-11-12T16:45:26.197939Z",
     "start_time": "2024-11-12T16:45:26.131974Z"
    }
   },
   "cell_type": "code",
   "source": [
    "X_bank_train, X_bank_test, y_bank_train, y_bank_test = dh.split_data(X_bank_marketing, y_bank_marketing, 0.8)\n",
    "X_wine_train, X_wine_test, y_wine_train, y_wine_test = dh.split_data(X_bank_marketing, y_bank_marketing, 0.8)"
   ],
   "id": "b1a128eea5043676",
   "outputs": [],
   "execution_count": 22
  },
  {
   "metadata": {},
   "cell_type": "markdown",
   "source": [
    "# Regularization\n",
    "\n",
    "We are going to implement Ridge Regression according to IBM (https://www.ibm.com/topics/ridge-regression), since there does not seem to be an algorithm provided.\n",
    "We use MSE as loss function.\n",
    "$$\n",
    "Loss = \\frac{1}{n} \\sum_{i=1}^n (Y_i - \\hat{Y}_i)^2 + \\lambda \\sum_{j=1}^P \\beta_j^2\n",
    "$$\n",
    "\n",
    "We already know the gradient of MSE from week 3, we just have to add the gradient of the L2 term ($2 \\lambda \\beta$).\n",
    "\n",
    "$$\n",
    "\\Delta_{\\beta} Loss = -\\frac{2}{n} X ^ T (y - X \\beta) + 2 \\lambda \\beta\n",
    "$$\n"
   ],
   "id": "4b3495fb7991ecaa"
  },
  {
   "metadata": {
    "ExecuteTime": {
     "end_time": "2024-11-12T16:52:29.496491Z",
     "start_time": "2024-11-12T16:52:29.479153Z"
    }
   },
   "cell_type": "code",
   "source": [
    "class RidgeRegression:\n",
    "    def __init__(self):\n",
    "        self.B = None\n",
    "        self.L2 = None\n",
    "\n",
    "    def fit(self, X_train, y_train, X_test, y_test, initial_learning_rate, regularization_constant, i_max,\n",
    "            batch_size=50):\n",
    "        \"\"\"\n",
    "        Fits the model to the given Data.\n",
    "        :param X_train: \n",
    "        :param y_train: \n",
    "        :param X_test:\n",
    "        :param y_test:\n",
    "        :param initial_learning_rate: \n",
    "        :param regularization_constant: \n",
    "        :param batch_size: \n",
    "        :param i_max: Maximum number of iterations.\n",
    "        :return: \n",
    "        \"\"\"\n",
    "        # TODO: we have no convergence criterion\n",
    "        n = X_train.shape[0]\n",
    "        d = X_train.shape[1]\n",
    "\n",
    "        # Bold Driver parameters\n",
    "        bold_driver_reward = 1.1\n",
    "        bold_driver_penalty = 0.5\n",
    "\n",
    "        self.B = np.zeros(d)\n",
    "        self.L2 = 0\n",
    "\n",
    "        def mini_GDB(f, f_grad):\n",
    "            prev_loss = float('inf')\n",
    "            learning_rate = initial_learning_rate\n",
    "            train_rmse_history = []\n",
    "            test_rmse_history = []\n",
    "\n",
    "            for epoch in range(1, i_max + 1):\n",
    "                indices = np.random.permutation(n)\n",
    "                X_shuffled = X_train[indices]\n",
    "                y_shuffled = y_train[indices]\n",
    "\n",
    "                for i in range(0, n, batch_size):\n",
    "                    X_batch = X_shuffled[i:i + batch_size]\n",
    "                    y_batch = y_shuffled[i:i + batch_size]\n",
    "\n",
    "                    current_loss = f(X_batch, y_batch)\n",
    "                    grad = f_grad(X_batch, y_batch)\n",
    "\n",
    "                    # We use bold driver for adjusting the learning rate\n",
    "                    if current_loss < prev_loss:\n",
    "                        learning_rate *= bold_driver_reward\n",
    "\n",
    "                    else:\n",
    "                        learning_rate *= bold_driver_penalty\n",
    "\n",
    "                    # print(f'Learning rate: {learning_rate}, type: {type(learning_rate)}')\n",
    "                    # print(f'Grad: {grad}, tpye: {type(grad)}')\n",
    "                    # print(f'Weights: {self.B}, type: {self.B}')\n",
    "\n",
    "                    self.B -= learning_rate * grad\n",
    "                    self.L2 -= learning_rate * np.mean(grad)\n",
    "\n",
    "                    prev_loss = current_loss\n",
    "\n",
    "                train_rmse = self._rmse(X_train, y_train)\n",
    "                test_rmse = self._rmse(X_test, y_test)\n",
    "\n",
    "                train_rmse_history.append(train_rmse)\n",
    "                test_rmse_history.append(test_rmse)\n",
    "\n",
    "            return train_rmse_history, test_rmse_history\n",
    "\n",
    "        def mse(X_batch, y_batch):\n",
    "            predictions = X_batch @ self.B\n",
    "            return np.mean((y_batch - predictions) ** 2) + regularization_constant * np.sum(self.B ** 2)\n",
    "\n",
    "        def mse_grad(X_batch, y_batch):\n",
    "            predictions = X_batch @ self.B\n",
    "            return ((-2 / len(y_batch)) * (X_batch.T @ (y_batch - predictions)) + (\n",
    "                    2 * regularization_constant * self.B)).astype(np.float64)\n",
    "\n",
    "        return mini_GDB(mse, mse_grad)\n",
    "\n",
    "    def _rmse(self, X, y):\n",
    "        predictions = X @ self.B\n",
    "        return np.sqrt(np.mean((y - predictions) ** 2))\n",
    "\n",
    "    def predict(self, X):\n",
    "        \"\"\"\n",
    "        Predicts the target values for the given Data.\n",
    "        :param X: Input features.\n",
    "        :return: Predicted target values.\n",
    "        \"\"\"\n",
    "        if self.B is None:\n",
    "            raise ValueError('Please call fit() before predicting.')\n",
    "\n",
    "        return X @ self.B\n"
   ],
   "id": "d2b3ebff7bc849d0",
   "outputs": [],
   "execution_count": 34
  },
  {
   "metadata": {
    "ExecuteTime": {
     "end_time": "2024-11-12T16:52:56.454164Z",
     "start_time": "2024-11-12T16:52:32.937533Z"
    }
   },
   "cell_type": "code",
   "source": [
    "model = RidgeRegression()\n",
    "\n",
    "train_rmse_history, test_rsme_history = model.fit(X_wine_train, y_wine_train, X_wine_test, y_wine_test,\n",
    "                                                  initial_learning_rate=0.1, regularization_constant=0.1, i_max=200)"
   ],
   "id": "4ff85d3e98ff390a",
   "outputs": [],
   "execution_count": 35
  },
  {
   "metadata": {
    "ExecuteTime": {
     "end_time": "2024-11-12T17:01:41.575527Z",
     "start_time": "2024-11-12T17:01:41.324430Z"
    }
   },
   "cell_type": "code",
   "source": [
    "plt.plot(range(1, len(train_rmse_history) + 1), train_rmse_history, label='Train RMSE', color='red')\n",
    "plt.plot(range(1, len(test_rsme_history) + 1), -np.array(test_rsme_history), label='Test RMSE', color='green')\n",
    "\n",
    "plt.xlabel('Epochs')\n",
    "plt.ylabel('RMSE')\n",
    "plt.title('Training and (negative) Test RMSE history')\n",
    "plt.legend()\n",
    "\n",
    "plt.show()\n",
    "plt.close()"
   ],
   "id": "c30604fed5f64bab",
   "outputs": [
    {
     "data": {
      "text/plain": [
       "<Figure size 640x480 with 1 Axes>"
      ],
      "image/png": "[encoded data removed]"
     },
     "metadata": {},
     "output_type": "display_data"
    }
   ],
   "execution_count": 40
  }
 ],
 "metadata": {
  "kernelspec": {
   "display_name": "Python 3",
   "language": "python",
   "name": "python3"
  },
  "language_info": {
   "codemirror_mode": {
    "name": "ipython",
    "version": 2
   },
   "file_extension": ".py",
   "mimetype": "text/x-python",
   "name": "python",
   "nbconvert_exporter": "python",
   "pygments_lexer": "ipython2",
   "version": "2.7.6"
  }
 },
 "nbformat": 4,
 "nbformat_minor": 5
}
