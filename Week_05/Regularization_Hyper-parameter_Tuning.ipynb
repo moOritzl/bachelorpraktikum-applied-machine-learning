{
 "cells": [
  {
   "metadata": {},
   "cell_type": "markdown",
   "source": "# Data Pre-Processing",
   "id": "b1058326c23ca24c"
  },
  {
   "cell_type": "code",
   "id": "initial_id",
   "metadata": {
    "collapsed": true,
    "ExecuteTime": {
     "end_time": "2024-11-12T09:32:24.164538Z",
     "start_time": "2024-11-12T09:32:24.161014Z"
    }
   },
   "source": [
    "import pandas as pd\n",
    "import numpy as np\n",
    "import data_handler as dh\n",
    "from ucimlrepo import fetch_ucirepo"
   ],
   "outputs": [],
   "execution_count": 49
  },
  {
   "metadata": {
    "ExecuteTime": {
     "end_time": "2024-11-12T09:32:29.362141Z",
     "start_time": "2024-11-12T09:32:24.189569Z"
    }
   },
   "cell_type": "code",
   "source": [
    "bank_marketing = fetch_ucirepo(id=222)\n",
    "X_bank_marketing = bank_marketing.data.features\n",
    "y_bank_marketing = bank_marketing.data.targets\n",
    "\n",
    "wine_quality = fetch_ucirepo(id=186)\n",
    "X_wine_quality = wine_quality.data.features\n",
    "y_wine_quality = wine_quality.data.targets"
   ],
   "id": "1bc6547152f4c9c0",
   "outputs": [],
   "execution_count": 50
  },
  {
   "metadata": {},
   "cell_type": "markdown",
   "source": "We pre-process the bank marketing data like last week.",
   "id": "db3bc2c74b1ab589"
  },
  {
   "metadata": {
    "ExecuteTime": {
     "end_time": "2024-11-12T09:32:29.502445Z",
     "start_time": "2024-11-12T09:32:29.402830Z"
    }
   },
   "cell_type": "code",
   "source": [
    "X_bank_marketing = X_bank_marketing.drop(['month', 'day_of_week'],\n",
    "                                         axis=1)  # drop features without values for prediction\n",
    "\n",
    "X_bank_marketing = X_bank_marketing.fillna(0)\n",
    "\n",
    "X_bank_marketing = pd.get_dummies(X_bank_marketing).astype(np.float64)\n",
    "\n",
    "X_bank_marketing = (X_bank_marketing - X_bank_marketing.min()) / (X_bank_marketing.max() - X_bank_marketing.min())\n",
    "\n",
    "y_bank_marketing.loc[:, 'y'] = y_bank_marketing['y'].map({'no': 0, 'yes': 1})  # convert targets to numeric values"
   ],
   "id": "8bb8a88ab8298bc4",
   "outputs": [],
   "execution_count": 51
  },
  {
   "metadata": {},
   "cell_type": "markdown",
   "source": "",
   "id": "8cf7cc4647d7794d"
  },
  {
   "metadata": {
    "ExecuteTime": {
     "end_time": "2024-11-12T09:33:15.627765Z",
     "start_time": "2024-11-12T09:33:15.621618Z"
    }
   },
   "cell_type": "code",
   "source": "X_wine_quality = (X_wine_quality - X_wine_quality.min()) / (X_wine_quality.max() - X_wine_quality.min())",
   "id": "2e0bae55cd53f55b",
   "outputs": [],
   "execution_count": 54
  },
  {
   "metadata": {},
   "cell_type": "markdown",
   "source": "# Regularization",
   "id": "4b3495fb7991ecaa"
  },
  {
   "metadata": {},
   "cell_type": "code",
   "outputs": [],
   "execution_count": null,
   "source": [
    "class RidgeRegression:\n",
    "    def __init__(self):\n",
    "        self.B = None\n",
    "    "
   ],
   "id": "d2b3ebff7bc849d0"
  }
 ],
 "metadata": {
  "kernelspec": {
   "display_name": "Python 3",
   "language": "python",
   "name": "python3"
  },
  "language_info": {
   "codemirror_mode": {
    "name": "ipython",
    "version": 2
   },
   "file_extension": ".py",
   "mimetype": "text/x-python",
   "name": "python",
   "nbconvert_exporter": "python",
   "pygments_lexer": "ipython2",
   "version": "2.7.6"
  }
 },
 "nbformat": 4,
 "nbformat_minor": 5
}
