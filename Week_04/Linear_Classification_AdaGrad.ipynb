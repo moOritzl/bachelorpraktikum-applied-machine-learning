{
 "cells": [
  {
   "metadata": {},
   "cell_type": "markdown",
   "source": "# Linear Classification with Gradient Descent",
   "id": "6fd943f2fd22b8e1"
  },
  {
   "metadata": {
    "ExecuteTime": {
     "end_time": "2024-11-08T23:35:39.828819Z",
     "start_time": "2024-11-08T23:35:39.825214Z"
    }
   },
   "cell_type": "code",
   "source": [
    "import numpy as np\n",
    "import pandas as pd\n",
    "from ucimlrepo import fetch_ucirepo\n",
    "import data_handler as dh\n",
    "from matplotlib import pyplot as plt"
   ],
   "id": "a4c877b48d32fcaf",
   "outputs": [],
   "execution_count": 20
  },
  {
   "metadata": {},
   "cell_type": "markdown",
   "source": "## Fetching and Pre-Processing the data",
   "id": "370dfbb41848faaa"
  },
  {
   "cell_type": "code",
   "id": "initial_id",
   "metadata": {
    "collapsed": true,
    "ExecuteTime": {
     "end_time": "2024-11-08T23:35:45.234342Z",
     "start_time": "2024-11-08T23:35:39.846838Z"
    }
   },
   "source": [
    "bank_marketing = fetch_ucirepo(id=222)\n",
    "occupancy_detection = fetch_ucirepo(id=357)\n",
    "\n",
    "X_bank_marketing, y_bank_marketing = bank_marketing.data.features, bank_marketing.data.targets\n",
    "X_occupancy, y_occupancy = occupancy_detection.data.features, occupancy_detection.data.targets"
   ],
   "outputs": [],
   "execution_count": 21
  },
  {
   "metadata": {},
   "cell_type": "markdown",
   "source": "Pre-process the bank marketing data. Drop features without values for prediction: month, day_of_week. We have to treat NaN values differently than last week, since dropping them would drastically reduce the instances of the data, so we replace them with 0. We use One-Hot encoding for non-numeric (categorical) values. We use min-max normalization to avoid huge values for residuals.",
   "id": "dfac6cf81025488e"
  },
  {
   "metadata": {
    "ExecuteTime": {
     "end_time": "2024-11-08T23:35:45.376346Z",
     "start_time": "2024-11-08T23:35:45.275336Z"
    }
   },
   "cell_type": "code",
   "source": [
    "X_bank_marketing = X_bank_marketing.drop(['month', 'day_of_week'], axis=1)  # drop features without value for prediction\n",
    "\n",
    "X_bank_marketing = X_bank_marketing.fillna(0)\n",
    "\n",
    "X_bank_marketing = pd.get_dummies(X_bank_marketing).astype(np.float64)\n",
    "\n",
    "X_bank_marketing = (X_bank_marketing - X_bank_marketing.min()) / (\n",
    "        X_bank_marketing.max() - X_bank_marketing.min())  # normalize the data\n",
    "\n",
    "y_bank_marketing.loc[:, 'y'] = y_bank_marketing['y'].map({'no': 0, 'yes': 1})  # convert targets to numeric values"
   ],
   "id": "bf9064f00193ea0b",
   "outputs": [],
   "execution_count": 22
  },
  {
   "metadata": {},
   "cell_type": "markdown",
   "source": "Pre-process the occupancy data. Drop the date feature. Since all features are type object, we have to remove the standing out ones and convert them to numeric values. We use min-max normalization to avoid huge values for residuals.",
   "id": "20982ba06f510011"
  },
  {
   "metadata": {
    "ExecuteTime": {
     "end_time": "2024-11-08T23:35:45.467306Z",
     "start_time": "2024-11-08T23:35:45.419282Z"
    }
   },
   "cell_type": "code",
   "source": [
    "X_occupancy = X_occupancy.drop(['date'], axis=1)  # drop features without value for prediction\n",
    "\n",
    "X_occupancy = X_occupancy.apply(pd.to_numeric, errors='coerce').dropna().astype(\n",
    "    np.float64)  # Convert all columns to numeric, coerce errors to NaN, and drop rows with NaN values\n",
    "\n",
    "X_occupancy = (X_occupancy - X_occupancy.min()) / (X_occupancy.max() - X_occupancy.min())  # normalize the data"
   ],
   "id": "179c4197cbef6d2c",
   "outputs": [],
   "execution_count": 23
  },
  {
   "metadata": {},
   "cell_type": "markdown",
   "source": "Split the datasets in training data and test data. We use our method from `data_handler`.",
   "id": "834ff963f915bef4"
  },
  {
   "metadata": {
    "ExecuteTime": {
     "end_time": "2024-11-08T23:35:45.538402Z",
     "start_time": "2024-11-08T23:35:45.505923Z"
    }
   },
   "cell_type": "code",
   "source": [
    "X_occupancy_train, X_occupancy_test, y_occupancy_train, y_occupancy_test = dh.split_data(X_occupancy,\n",
    "                                                                                         y_occupancy, 0.8)\n",
    "X_bank_marketing_train, X_bank_marketing_test, y_bank_marketing_train, y_bank_marketing_test = dh.split_data(\n",
    "    X_bank_marketing, y_bank_marketing, 0.8)"
   ],
   "id": "a97940a51c196caa",
   "outputs": [],
   "execution_count": 24
  },
  {
   "metadata": {},
   "cell_type": "markdown",
   "source": [
    "## Implementation of Linear Classification\n",
    "\n",
    "We use the negative log likelihood function, else we would have only negative loss values.\n",
    "We use the epoch loss difference for convergence criterion\n"
   ],
   "id": "8f2e543315114719"
  },
  {
   "metadata": {
    "ExecuteTime": {
     "end_time": "2024-11-08T23:56:16.448823Z",
     "start_time": "2024-11-08T23:56:16.437764Z"
    }
   },
   "cell_type": "code",
   "source": [
    "class LinearClassifier:\n",
    "    def __init__(self):\n",
    "        self.B = None\n",
    "\n",
    "    def fit(self, X_train, y_train, X_test, y_test, i_max, tolerance=1e-6):\n",
    "        \"\"\"\n",
    "        Fits the model using the stochastic gradient descent/ascend algorithm.\n",
    "        :param X_train: Training input features.\n",
    "        :param y_train: Training target values.\n",
    "        :param X_test: Test input features for calculating the log-loss.\n",
    "        :param y_test: Test target values for calculating the log-loss.\n",
    "        :param i_max: Maximum number of iterations.\n",
    "        :param tolerance: Improvement threshold for convergence.\n",
    "        :return: Tuple of epoch loss difference history (|f(x_i-1 - f(x_i)|) and log-loss history on test set.\n",
    "        \"\"\"\n",
    "        initial_learning_rate = 0.01\n",
    "        alpha = 1.1\n",
    "        beta = 0.5\n",
    "\n",
    "        n = X_train.shape[0]\n",
    "        d = X_train.shape[1]\n",
    "\n",
    "        def SGD(f, grad_f):\n",
    "            self.B = np.zeros(d)\n",
    "            learning_rate = initial_learning_rate\n",
    "            epoch_loss_diff = []\n",
    "            test_loss_history = []\n",
    "\n",
    "            for epoch in range(1, i_max + 1):\n",
    "                indices = np.random.permutation(n)\n",
    "                X_shuffled = X_train[indices]\n",
    "                y_shuffled = y_train[indices]\n",
    "\n",
    "                prev_loss = f(X_train, y_train)\n",
    "\n",
    "                for i in range(n):\n",
    "                    x_i = X_shuffled[i]\n",
    "                    y_i = y_shuffled[i]\n",
    "\n",
    "                    gradient = grad_f(x_i, y_i)\n",
    "\n",
    "                    self.B += learning_rate * gradient\n",
    "\n",
    "                current_loss = f(X_train, y_train)\n",
    "                loss_diff = abs(current_loss - prev_loss)\n",
    "                epoch_loss_diff.append(loss_diff)\n",
    "\n",
    "                test_loss = f(X_test, y_test)\n",
    "                test_loss_history.append(test_loss)\n",
    "\n",
    "                # bold driver for choosing the step length\n",
    "                if current_loss < prev_loss:\n",
    "                    learning_rate *= alpha\n",
    "                else:\n",
    "                    learning_rate *= beta\n",
    "\n",
    "                if len(epoch_loss_diff) > 1 and epoch_loss_diff[-1] < tolerance:\n",
    "                    print(f\"Converged after {epoch} epochs.\")\n",
    "                    break\n",
    "            else:\n",
    "                print(f\"WARNING: Not converged after {i_max} epochs.\")\n",
    "            return epoch_loss_diff, test_loss_history\n",
    "\n",
    "        def log_likelihood(X, y):\n",
    "            predictions = 1 / (1 + np.exp(-(X @ self.B)))\n",
    "            return -np.sum(y * np.log(predictions) + (1 - y) * np.log(1 - predictions)) / X.shape[0]  # Normalized loss\n",
    "\n",
    "        def grad_log_likelihood(x_i, y_i):\n",
    "            sigmoid = 1 / (1 + np.exp(-(self.B.T @ x_i)))\n",
    "            return (y_i - sigmoid) * x_i\n",
    "\n",
    "        return SGD(log_likelihood, grad_log_likelihood)\n",
    "\n",
    "    def predict(self, X):\n",
    "        \"\"\"\n",
    "        Predicts the target values.\n",
    "        :param X: Input features.\n",
    "        :return: Predicted values.\n",
    "        \"\"\"\n",
    "        if self.B is None:\n",
    "            raise ValueError('The Model has not been trained yet. Please call fit() first.')\n",
    "\n",
    "        sigmoid = 1 / (1 + np.exp(-(self.B.T @ X)))\n",
    "\n",
    "        return (sigmoid >= 0.5).astype(np.int8)  # Threshold of 0.5 to convert to binary values\n"
   ],
   "id": "a72ef9df2079525",
   "outputs": [],
   "execution_count": 33
  },
  {
   "metadata": {
    "ExecuteTime": {
     "end_time": "2024-11-08T23:57:09.441068Z",
     "start_time": "2024-11-08T23:56:50.761643Z"
    }
   },
   "cell_type": "code",
   "source": [
    "model = LinearClassifier()\n",
    "eld, tlh = model.fit(X_bank_marketing_train, y_bank_marketing_train, X_bank_marketing_test, y_bank_marketing_test, 500,\n",
    "                     tolerance=1e-7)"
   ],
   "id": "b109d3bba1651dd9",
   "outputs": [
    {
     "name": "stdout",
     "output_type": "stream",
     "text": [
      "Converged after 65 epochs.\n"
     ]
    }
   ],
   "execution_count": 36
  },
  {
   "metadata": {
    "ExecuteTime": {
     "end_time": "2024-11-09T00:00:51.837396Z",
     "start_time": "2024-11-09T00:00:51.682002Z"
    }
   },
   "cell_type": "code",
   "source": [
    "plt.plot(range(1, len(eld) + 1), eld, label=\"Training Loss Difference\", color=\"red\")\n",
    "plt.plot(range(1, len(tlh) + 1), tlh, label=\"Test Log-Loss\", color=\"green\")\n",
    "\n",
    "plt.xlabel('Epochs')\n",
    "plt.ylabel('Loss')\n",
    "#plt.yscale('log')\n",
    "plt.title('Training and Test Loss History')\n",
    "plt.legend()\n",
    "plt.show()\n",
    "plt.close()"
   ],
   "id": "a187de00162972c3",
   "outputs": [
    {
     "data": {
      "text/plain": [
       "<Figure size 640x480 with 1 Axes>"
      ],
      "image/png": "[encoded data removed]"
     },
     "metadata": {},
     "output_type": "display_data"
    }
   ],
   "execution_count": 39
  },
  {
   "metadata": {},
   "cell_type": "markdown",
   "source": "",
   "id": "73c467dda24fc313"
  }
 ],
 "metadata": {
  "kernelspec": {
   "display_name": "Python 3",
   "language": "python",
   "name": "python3"
  },
  "language_info": {
   "codemirror_mode": {
    "name": "ipython",
    "version": 2
   },
   "file_extension": ".py",
   "mimetype": "text/x-python",
   "name": "python",
   "nbconvert_exporter": "python",
   "pygments_lexer": "ipython2",
   "version": "2.7.6"
  }
 },
 "nbformat": 4,
 "nbformat_minor": 5
}
