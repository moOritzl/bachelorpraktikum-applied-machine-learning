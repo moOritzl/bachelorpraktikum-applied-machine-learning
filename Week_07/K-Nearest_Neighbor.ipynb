{
 "cells": [
  {
   "metadata": {},
   "cell_type": "markdown",
   "source": "# Data",
   "id": "4aa7edaf58b2870d"
  },
  {
   "cell_type": "code",
   "id": "initial_id",
   "metadata": {
    "collapsed": true,
    "ExecuteTime": {
     "end_time": "2024-11-25T15:15:46.739706Z",
     "start_time": "2024-11-25T15:15:46.735106Z"
    }
   },
   "source": [
    "from ucimlrepo import fetch_ucirepo\n",
    "import numpy as np\n",
    "import pandas as pd\n",
    "from sklearn.preprocessing import MinMaxScaler"
   ],
   "outputs": [],
   "execution_count": 18
  },
  {
   "metadata": {
    "ExecuteTime": {
     "end_time": "2024-11-25T15:15:48.085695Z",
     "start_time": "2024-11-25T15:15:46.748762Z"
    }
   },
   "cell_type": "code",
   "source": [
    "iris = fetch_ucirepo(id=53)\n",
    "\n",
    "D1_X = iris.data.features.to_numpy()  # all features are floats without missing values\n",
    "D1_y = iris.data.targets.to_numpy()  # class of iris plant: Iris Setosa, Iris Versicolour, or Iris Virginica\n",
    "\n",
    "scaler = MinMaxScaler()\n",
    "D1_X = scaler.fit_transform(D1_X)"
   ],
   "id": "2214faffec6fdb99",
   "outputs": [],
   "execution_count": 19
  },
  {
   "metadata": {
    "ExecuteTime": {
     "end_time": "2024-11-25T15:15:48.128988Z",
     "start_time": "2024-11-25T15:15:48.124823Z"
    }
   },
   "cell_type": "code",
   "source": [
    "print(f'Features have NaN values: {np.isnan(D1_X).any()}')\n",
    "print(f'Number of classes: {np.unique(D1_y).size}')"
   ],
   "id": "b575f2e9e63bce81",
   "outputs": [
    {
     "name": "stdout",
     "output_type": "stream",
     "text": [
      "Features have NaN values: False\n",
      "Number of classes: 3\n"
     ]
    }
   ],
   "execution_count": 20
  },
  {
   "metadata": {
    "ExecuteTime": {
     "end_time": "2024-11-25T15:15:48.213255Z",
     "start_time": "2024-11-25T15:15:48.197620Z"
    }
   },
   "cell_type": "code",
   "source": [
    "wine_data = pd.read_csv('data/winequality-red.csv', sep=';')\n",
    "\n",
    "D2_y = wine_data['quality'].to_numpy().reshape(-1, 1)\n",
    "D2_X = wine_data.drop('quality', axis=1).to_numpy()\n",
    "\n",
    "scaler = MinMaxScaler()\n",
    "D2_X = scaler.fit_transform(D2_X)"
   ],
   "id": "f1e2bde623fce927",
   "outputs": [],
   "execution_count": 21
  },
  {
   "metadata": {},
   "cell_type": "markdown",
   "source": [
    "# Implementation of K-Nearest Neighbor (KNN)\n",
    "\n",
    "## Splitting the Data"
   ],
   "id": "45860c78df116bad"
  },
  {
   "metadata": {
    "ExecuteTime": {
     "end_time": "2024-11-25T15:15:48.265697Z",
     "start_time": "2024-11-25T15:15:48.256137Z"
    }
   },
   "cell_type": "code",
   "source": [
    "from sklearn.model_selection import train_test_split\n",
    "\n",
    "D1_X_train, D1_X_test, D1_y_train, D1_y_test = train_test_split(D1_X, D1_y, test_size=0.3, random_state=420)\n",
    "\n",
    "D2_X_train, D2_X_test, D2_y_train, D2_y_test = train_test_split(D2_X, D2_y, test_size=0.3, random_state=420)"
   ],
   "id": "119bb569e8c6459b",
   "outputs": [],
   "execution_count": 22
  },
  {
   "metadata": {},
   "cell_type": "markdown",
   "source": "# Optimization and Comparison of KNN",
   "id": "5af83d1c239cd513"
  },
  {
   "metadata": {
    "ExecuteTime": {
     "end_time": "2024-11-25T15:15:48.309853Z",
     "start_time": "2024-11-25T15:15:48.305978Z"
    }
   },
   "cell_type": "code",
   "source": "",
   "id": "43615958e219486a",
   "outputs": [],
   "execution_count": null
  }
 ],
 "metadata": {
  "kernelspec": {
   "display_name": "Python 3",
   "language": "python",
   "name": "python3"
  },
  "language_info": {
   "codemirror_mode": {
    "name": "ipython",
    "version": 2
   },
   "file_extension": ".py",
   "mimetype": "text/x-python",
   "name": "python",
   "nbconvert_exporter": "python",
   "pygments_lexer": "ipython2",
   "version": "2.7.6"
  }
 },
 "nbformat": 4,
 "nbformat_minor": 5
}
