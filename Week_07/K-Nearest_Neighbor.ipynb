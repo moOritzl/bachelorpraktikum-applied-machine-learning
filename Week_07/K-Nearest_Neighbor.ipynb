{
 "cells": [
  {
   "metadata": {},
   "cell_type": "markdown",
   "source": "# Data",
   "id": "4aa7edaf58b2870d"
  },
  {
   "cell_type": "code",
   "id": "initial_id",
   "metadata": {
    "collapsed": true,
    "ExecuteTime": {
     "end_time": "2024-11-26T18:15:56.034618Z",
     "start_time": "2024-11-26T18:15:56.028003Z"
    }
   },
   "source": [
    "from ucimlrepo import fetch_ucirepo\n",
    "import numpy as np\n",
    "import pandas as pd\n",
    "from sklearn.preprocessing import MinMaxScaler\n",
    "from sklearn.metrics import confusion_matrix, ConfusionMatrixDisplay, accuracy_score\n",
    "import matplotlib.pyplot as plt"
   ],
   "outputs": [],
   "execution_count": 196
  },
  {
   "metadata": {
    "ExecuteTime": {
     "end_time": "2024-11-26T18:15:57.402599Z",
     "start_time": "2024-11-26T18:15:56.060305Z"
    }
   },
   "cell_type": "code",
   "source": [
    "iris = fetch_ucirepo(id=53)\n",
    "\n",
    "D1_X = iris.data.features.to_numpy()  # all features are floats without missing values\n",
    "D1_y = iris.data.targets.to_numpy()  # class of iris plant: Iris Setosa, Iris Versicolour, or Iris Virginica\n",
    "\n",
    "scaler = MinMaxScaler()\n",
    "D1_X = scaler.fit_transform(D1_X)"
   ],
   "id": "2214faffec6fdb99",
   "outputs": [],
   "execution_count": 197
  },
  {
   "metadata": {
    "ExecuteTime": {
     "end_time": "2024-11-26T18:15:57.476818Z",
     "start_time": "2024-11-26T18:15:57.467895Z"
    }
   },
   "cell_type": "code",
   "source": [
    "print(f'Features have NaN values: {np.isnan(D1_X).any()}')\n",
    "print(f'Number of classes: {np.unique(D1_y).size}')"
   ],
   "id": "b575f2e9e63bce81",
   "outputs": [
    {
     "name": "stdout",
     "output_type": "stream",
     "text": [
      "Features have NaN values: False\n",
      "Number of classes: 3\n"
     ]
    }
   ],
   "execution_count": 198
  },
  {
   "metadata": {
    "ExecuteTime": {
     "end_time": "2024-11-26T18:15:57.586324Z",
     "start_time": "2024-11-26T18:15:57.568260Z"
    }
   },
   "cell_type": "code",
   "source": [
    "wine_data = pd.read_csv('data/winequality-red.csv', sep=';')\n",
    "\n",
    "D2_y = wine_data['quality'].to_numpy().reshape(-1, 1)\n",
    "D2_X = wine_data.drop('quality', axis=1).to_numpy()\n",
    "\n",
    "scaler = MinMaxScaler()\n",
    "D2_X = scaler.fit_transform(D2_X)"
   ],
   "id": "f1e2bde623fce927",
   "outputs": [],
   "execution_count": 199
  },
  {
   "metadata": {},
   "cell_type": "markdown",
   "source": [
    "# Implementation of K-Nearest Neighbor (KNN)\n",
    "\n",
    "## Splitting the Data"
   ],
   "id": "45860c78df116bad"
  },
  {
   "metadata": {
    "ExecuteTime": {
     "end_time": "2024-11-26T18:15:57.667473Z",
     "start_time": "2024-11-26T18:15:57.659907Z"
    }
   },
   "cell_type": "code",
   "source": [
    "from sklearn.model_selection import train_test_split\n",
    "\n",
    "D1_X_train, D1_X_test, D1_y_train, D1_y_test = train_test_split(D1_X, D1_y, test_size=0.3, random_state=420)\n",
    "\n",
    "D2_X_train, D2_X_test, D2_y_train, D2_y_test = train_test_split(D2_X, D2_y, test_size=0.3, random_state=420)"
   ],
   "id": "119bb569e8c6459b",
   "outputs": [],
   "execution_count": 200
  },
  {
   "metadata": {},
   "cell_type": "markdown",
   "source": "## Implementation of KNNClassifier Class",
   "id": "8f5852efc24e552b"
  },
  {
   "metadata": {
    "ExecuteTime": {
     "end_time": "2024-11-26T18:15:57.775085Z",
     "start_time": "2024-11-26T18:15:57.761902Z"
    }
   },
   "cell_type": "code",
   "source": [
    "class KNNClassifier:\n",
    "    def __init__(self, k):\n",
    "        if k % 2 == 0:\n",
    "            print(f'WARNING: {k} is even, ties in majority voting may occur.')\n",
    "\n",
    "        self.k = k\n",
    "        self.X_train = None\n",
    "        self.y_train = None\n",
    "\n",
    "    def fit(self, X, y):\n",
    "        \"\"\"\n",
    "        Stores the training features X and training targets y.\n",
    "        :param X: Training Features.\n",
    "        :param y: Training Targets.\n",
    "        :return: None.\n",
    "        \"\"\"\n",
    "        self.X_train = X\n",
    "        self.y_train = y\n",
    "\n",
    "    def _get_k_neighbors_indices(self, q):\n",
    "        \"\"\"\n",
    "        Determines the top k nearest neighbors for the given query.\n",
    "        :param q: Query (Data Point).\n",
    "        :return: Indices of Top k Nearest Neighbors.\n",
    "        \"\"\"\n",
    "        # Very naive approach. We just calculate the distance to every training point and return the k closest ones. There are better methods like space-partitioning data structures or approximations like locality sensitive hashing. If I have enough time, maybe I will implement one of those.\n",
    "\n",
    "        distances = {}\n",
    "        for i, training_point in enumerate(self.X_train):\n",
    "            distances[i] = self._distance(training_point, q)\n",
    "\n",
    "        k_indices = sorted(distances, key=distances.get)[:self.k]\n",
    "\n",
    "        return k_indices\n",
    "        #k_nearest_neighbors = [self.X_train[i] for i in k_indices]\n",
    "        #return k_nearest_neighbors\n",
    "\n",
    "    @staticmethod\n",
    "    def _distance(u, v):\n",
    "        \"\"\"\n",
    "        Computes the euclidian distance between vectors u and v.\n",
    "        :param u: Vector u\n",
    "        :param v: Vector v\n",
    "        :return: Euclidian distance between u and v\n",
    "        \"\"\"\n",
    "        return np.sqrt(np.sum((u - v) ** 2))\n",
    "\n",
    "    def predict(self, X):\n",
    "        \"\"\"\n",
    "        Predicts the class labels for the given input features.\n",
    "        :param X: Input features.\n",
    "        :return: Predicted class labels.\n",
    "        \"\"\"\n",
    "        y_predicted = np.full((X.shape[0], 1), None, dtype=object)\n",
    "        if type(self.y_train[0][0]) is np.int64:\n",
    "            y_predicted = np.full((X.shape[0], 1), 0, dtype=np.int64)\n",
    "\n",
    "        if self.X_train is None or self.y_train is None:\n",
    "            raise ValueError(\"You should call fit before predict\")\n",
    "\n",
    "        for i, test_point in enumerate(X):\n",
    "            indices = self._get_k_neighbors_indices(test_point)\n",
    "\n",
    "            class_count = {}\n",
    "\n",
    "            for idx in indices:\n",
    "                predicted_class = self.y_train[idx][0]\n",
    "\n",
    "                if predicted_class not in class_count:\n",
    "                    class_count[predicted_class] = 1\n",
    "                else:\n",
    "                    class_count[predicted_class] += 1\n",
    "\n",
    "            best_class = max(class_count, key=class_count.get)\n",
    "            y_predicted[i][0] = best_class\n",
    "\n",
    "        return y_predicted"
   ],
   "id": "43615958e219486a",
   "outputs": [],
   "execution_count": 201
  },
  {
   "metadata": {},
   "cell_type": "markdown",
   "source": "## Quality Measurement of Prediction",
   "id": "eca388ca59a73477"
  },
  {
   "metadata": {
    "ExecuteTime": {
     "end_time": "2024-11-26T18:15:57.793628Z",
     "start_time": "2024-11-26T18:15:57.785537Z"
    }
   },
   "cell_type": "code",
   "source": [
    "def predict_measure(X_train, X_test, y_train, y_test, k=3):\n",
    "    KNN = KNNClassifier(k=k)\n",
    "    KNN.fit(X_train, y_train)\n",
    "\n",
    "    y_pred = KNN.predict(X_test)\n",
    "\n",
    "    # Very convenient way of visualizing results from Classification with sklearn.metrics\n",
    "    cm = confusion_matrix(y_test, y_pred)\n",
    "\n",
    "    disp = ConfusionMatrixDisplay(confusion_matrix=cm)\n",
    "    disp.plot(cmap=plt.cm.Greens)\n",
    "    plt.show()\n",
    "\n",
    "    print(f'Accuracy: {accuracy_score(y_test, y_pred):.2%}')"
   ],
   "id": "1d1f2478532d67b4",
   "outputs": [],
   "execution_count": 202
  },
  {
   "metadata": {
    "ExecuteTime": {
     "end_time": "2024-11-26T18:15:58.024671Z",
     "start_time": "2024-11-26T18:15:57.873218Z"
    }
   },
   "cell_type": "code",
   "source": "predict_measure(D1_X_train, D1_X_test, D1_y_train, D1_y_test)",
   "id": "766544d63d0c4fe4",
   "outputs": [
    {
     "data": {
      "text/plain": [
       "<Figure size 640x480 with 2 Axes>"
      ],
      "image/png": "[encoded data removed]"
     },
     "metadata": {},
     "output_type": "display_data"
    },
    {
     "name": "stdout",
     "output_type": "stream",
     "text": [
      "Accuracy: 95.56%\n"
     ]
    }
   ],
   "execution_count": 203
  },
  {
   "metadata": {},
   "cell_type": "markdown",
   "source": "Quality of prediction: ",
   "id": "76f4031465e3f814"
  },
  {
   "metadata": {
    "ExecuteTime": {
     "end_time": "2024-11-26T18:16:36.302684Z",
     "start_time": "2024-11-26T18:16:32.517080Z"
    }
   },
   "cell_type": "code",
   "source": "predict_measure(D2_X_train, D2_X_test, D2_y_train, D2_y_test, k=5)",
   "id": "21e4579d89864816",
   "outputs": [
    {
     "data": {
      "text/plain": [
       "<Figure size 640x480 with 2 Axes>"
      ],
      "image/png": "[encoded data removed]"
     },
     "metadata": {},
     "output_type": "display_data"
    },
    {
     "name": "stdout",
     "output_type": "stream",
     "text": [
      "Accuracy: 59.38%\n"
     ]
    }
   ],
   "execution_count": 206
  },
  {
   "metadata": {},
   "cell_type": "markdown",
   "source": "Quality of prediction: ",
   "id": "f7968a2735a71be0"
  },
  {
   "metadata": {},
   "cell_type": "markdown",
   "source": "# Optimization and Comparison of KNN Algorithm",
   "id": "f7f2309a586d8dd1"
  }
 ],
 "metadata": {
  "kernelspec": {
   "display_name": "Python 3",
   "language": "python",
   "name": "python3"
  },
  "language_info": {
   "codemirror_mode": {
    "name": "ipython",
    "version": 2
   },
   "file_extension": ".py",
   "mimetype": "text/x-python",
   "name": "python",
   "nbconvert_exporter": "python",
   "pygments_lexer": "ipython2",
   "version": "2.7.6"
  }
 },
 "nbformat": 4,
 "nbformat_minor": 5
}
