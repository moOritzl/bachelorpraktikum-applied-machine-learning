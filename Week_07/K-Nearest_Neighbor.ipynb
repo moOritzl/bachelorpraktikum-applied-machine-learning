{
 "cells": [
  {
   "metadata": {},
   "cell_type": "markdown",
   "source": "# Data",
   "id": "4aa7edaf58b2870d"
  },
  {
   "cell_type": "code",
   "id": "initial_id",
   "metadata": {
    "collapsed": true,
    "ExecuteTime": {
     "end_time": "2024-11-26T17:09:23.974054Z",
     "start_time": "2024-11-26T17:09:23.970291Z"
    }
   },
   "source": [
    "from ucimlrepo import fetch_ucirepo\n",
    "import numpy as np\n",
    "import pandas as pd\n",
    "from sklearn.preprocessing import MinMaxScaler\n",
    "from matplotlib import pyplot as plt"
   ],
   "outputs": [],
   "execution_count": 88
  },
  {
   "metadata": {
    "ExecuteTime": {
     "end_time": "2024-11-26T17:09:25.051783Z",
     "start_time": "2024-11-26T17:09:23.990831Z"
    }
   },
   "cell_type": "code",
   "source": [
    "iris = fetch_ucirepo(id=53)\n",
    "\n",
    "D1_X = iris.data.features.to_numpy()  # all features are floats without missing values\n",
    "D1_y = iris.data.targets.to_numpy()  # class of iris plant: Iris Setosa, Iris Versicolour, or Iris Virginica\n",
    "\n",
    "scaler = MinMaxScaler()\n",
    "D1_X = scaler.fit_transform(D1_X)"
   ],
   "id": "2214faffec6fdb99",
   "outputs": [],
   "execution_count": 89
  },
  {
   "metadata": {
    "ExecuteTime": {
     "end_time": "2024-11-26T17:09:25.092698Z",
     "start_time": "2024-11-26T17:09:25.088150Z"
    }
   },
   "cell_type": "code",
   "source": [
    "print(f'Features have NaN values: {np.isnan(D1_X).any()}')\n",
    "print(f'Number of classes: {np.unique(D1_y).size}')"
   ],
   "id": "b575f2e9e63bce81",
   "outputs": [
    {
     "name": "stdout",
     "output_type": "stream",
     "text": [
      "Features have NaN values: False\n",
      "Number of classes: 3\n"
     ]
    }
   ],
   "execution_count": 90
  },
  {
   "metadata": {
    "ExecuteTime": {
     "end_time": "2024-11-26T17:09:25.145327Z",
     "start_time": "2024-11-26T17:09:25.133846Z"
    }
   },
   "cell_type": "code",
   "source": [
    "wine_data = pd.read_csv('data/winequality-red.csv', sep=';')\n",
    "\n",
    "D2_y = wine_data['quality'].to_numpy().reshape(-1, 1)\n",
    "D2_X = wine_data.drop('quality', axis=1).to_numpy()\n",
    "\n",
    "scaler = MinMaxScaler()\n",
    "D2_X = scaler.fit_transform(D2_X)"
   ],
   "id": "f1e2bde623fce927",
   "outputs": [],
   "execution_count": 91
  },
  {
   "metadata": {},
   "cell_type": "markdown",
   "source": [
    "# Implementation of K-Nearest Neighbor (KNN)\n",
    "\n",
    "## Splitting the Data"
   ],
   "id": "45860c78df116bad"
  },
  {
   "metadata": {
    "ExecuteTime": {
     "end_time": "2024-11-26T17:09:25.183005Z",
     "start_time": "2024-11-26T17:09:25.176675Z"
    }
   },
   "cell_type": "code",
   "source": [
    "from sklearn.model_selection import train_test_split\n",
    "\n",
    "D1_X_train, D1_X_test, D1_y_train, D1_y_test = train_test_split(D1_X, D1_y, test_size=0.3, random_state=420)\n",
    "\n",
    "D2_X_train, D2_X_test, D2_y_train, D2_y_test = train_test_split(D2_X, D2_y, test_size=0.3, random_state=420)"
   ],
   "id": "119bb569e8c6459b",
   "outputs": [],
   "execution_count": 92
  },
  {
   "metadata": {},
   "cell_type": "markdown",
   "source": "# Optimization and Comparison of KNN",
   "id": "5af83d1c239cd513"
  },
  {
   "metadata": {
    "ExecuteTime": {
     "end_time": "2024-11-26T17:20:36.115389Z",
     "start_time": "2024-11-26T17:20:36.104297Z"
    }
   },
   "cell_type": "code",
   "source": [
    "class KNNClassifier:\n",
    "    def __init__(self, k):\n",
    "        self.k = k\n",
    "        self.X_train = None\n",
    "        self.y_train = None\n",
    "\n",
    "    def fit(self, X, y):\n",
    "        \"\"\"\n",
    "        Stores the training features X and training targets y.\n",
    "        :param X: Training Features.\n",
    "        :param y: Training Targets.\n",
    "        :return: None.\n",
    "        \"\"\"\n",
    "        self.X_train = X\n",
    "        self.y_train = y\n",
    "\n",
    "    def _get_k_neighbors_indices(self, q):\n",
    "        \"\"\"\n",
    "        Determines the top k nearest neighbors for the given query.\n",
    "        :param q: Query (Data Point).\n",
    "        :return: Indices of Top k Nearest Neighbors.\n",
    "        \"\"\"\n",
    "        # Very naive approach. We just calculate the distance to every training point and return the k closest ones. There are better methods like space-partitioning data structures or approximations like locality sensitive hashing. If I have enough time, maybe I will implement one of those.\n",
    "\n",
    "        distances = {}\n",
    "        for i, training_point in enumerate(self.X_train):\n",
    "            distances[i] = self._distance(training_point, q)\n",
    "\n",
    "        k_indices = sorted(distances, key=distances.get)[:self.k]\n",
    "\n",
    "        return k_indices\n",
    "        #k_nearest_neighbors = [self.X_train[i] for i in k_indices]\n",
    "        #return k_nearest_neighbors\n",
    "\n",
    "    @staticmethod\n",
    "    def _distance(u, v):\n",
    "        \"\"\"\n",
    "        Computes the euclidian distance between vectors u and v.\n",
    "        :param u: Vector u\n",
    "        :param v: Vector v\n",
    "        :return: Euclidian distance between u and v\n",
    "        \"\"\"\n",
    "        return np.sqrt(np.sum((u - v) ** 2))\n",
    "\n",
    "    def predict(self, X):\n",
    "        \"\"\"\n",
    "        Predicts the class labels for the given input features.\n",
    "        :param X: Input features.\n",
    "        :return: Predicted class labels.\n",
    "        \"\"\"\n",
    "        y_predicted = np.full((X.shape[0], 1), None, dtype=object)\n",
    "\n",
    "        if self.X_train is None or self.y_train is None:\n",
    "            raise ValueError(\"You should call fit before predict\")\n",
    "\n",
    "        for i, test_point in enumerate(X):\n",
    "            indices = self._get_k_neighbors_indices(test_point)\n",
    "\n",
    "            class_count = {}\n",
    "\n",
    "            for idx in indices:\n",
    "                predicted_class = self.y_train[idx][0]\n",
    "\n",
    "                if predicted_class not in class_count:\n",
    "                    class_count[predicted_class] = 1\n",
    "                else:\n",
    "                    class_count[predicted_class] += 1\n",
    "\n",
    "            best_class = max(class_count, key=class_count.get)\n",
    "            y_predicted[i][0] = best_class\n",
    "\n",
    "        return y_predicted"
   ],
   "id": "43615958e219486a",
   "outputs": [],
   "execution_count": 140
  },
  {
   "metadata": {
    "ExecuteTime": {
     "end_time": "2024-11-26T17:21:11.145849Z",
     "start_time": "2024-11-26T17:21:11.111624Z"
    }
   },
   "cell_type": "code",
   "source": [
    "KNN = KNNClassifier(k=3)\n",
    "KNN.fit(D1_X_train, D1_y_train)\n",
    "\n",
    "y_pred = KNN.predict(D1_X_test)"
   ],
   "id": "ce4beb04078c5435",
   "outputs": [],
   "execution_count": 144
  },
  {
   "metadata": {
    "ExecuteTime": {
     "end_time": "2024-11-26T17:21:12.706271Z",
     "start_time": "2024-11-26T17:21:12.567584Z"
    }
   },
   "cell_type": "code",
   "source": [
    "# Classes in the dataset\n",
    "classes = np.unique(D1_y_test)\n",
    "\n",
    "# Count of each class in the actual data\n",
    "actual_counts = [np.sum(D1_y_test == c) for c in classes]\n",
    "predicted_counts = [np.sum(y_pred == c) for c in classes]\n",
    "\n",
    "# Bar plot\n",
    "width = 0.35\n",
    "x = np.arange(len(classes))\n",
    "\n",
    "plt.figure(figsize=(10, 6))\n",
    "plt.bar(x - width / 2, actual_counts, width=width, color='blue', label='Actual')\n",
    "plt.bar(x + width / 2, predicted_counts, width=width, color='red', label='Predicted')\n",
    "\n",
    "plt.xlabel('Class')\n",
    "plt.ylabel('Count')\n",
    "plt.title('Actual vs Predicted Class Distribution')\n",
    "plt.xticks(x, classes)\n",
    "plt.legend()\n",
    "plt.show()"
   ],
   "id": "7a06b3bb89778e59",
   "outputs": [
    {
     "data": {
      "text/plain": [
       "<Figure size 1000x600 with 1 Axes>"
      ],
      "image/png": "[encoded data removed]"
     },
     "metadata": {},
     "output_type": "display_data"
    }
   ],
   "execution_count": 145
  },
  {
   "metadata": {
    "ExecuteTime": {
     "end_time": "2024-11-26T17:12:54.478827Z",
     "start_time": "2024-11-26T17:12:54.474438Z"
    }
   },
   "cell_type": "code",
   "source": "print(D1_y_test)",
   "id": "c6bcc84ad40e767a",
   "outputs": [
    {
     "name": "stdout",
     "output_type": "stream",
     "text": [
      "[['Iris-versicolor']\n",
      " ['Iris-virginica']\n",
      " ['Iris-virginica']\n",
      " ['Iris-setosa']\n",
      " ['Iris-setosa']\n",
      " ['Iris-versicolor']\n",
      " ['Iris-setosa']\n",
      " ['Iris-versicolor']\n",
      " ['Iris-virginica']\n",
      " ['Iris-versicolor']\n",
      " ['Iris-virginica']\n",
      " ['Iris-versicolor']\n",
      " ['Iris-setosa']\n",
      " ['Iris-setosa']\n",
      " ['Iris-virginica']\n",
      " ['Iris-versicolor']\n",
      " ['Iris-setosa']\n",
      " ['Iris-setosa']\n",
      " ['Iris-setosa']\n",
      " ['Iris-setosa']\n",
      " ['Iris-setosa']\n",
      " ['Iris-virginica']\n",
      " ['Iris-versicolor']\n",
      " ['Iris-setosa']\n",
      " ['Iris-versicolor']\n",
      " ['Iris-versicolor']\n",
      " ['Iris-setosa']\n",
      " ['Iris-setosa']\n",
      " ['Iris-versicolor']\n",
      " ['Iris-versicolor']\n",
      " ['Iris-versicolor']\n",
      " ['Iris-virginica']\n",
      " ['Iris-virginica']\n",
      " ['Iris-setosa']\n",
      " ['Iris-setosa']\n",
      " ['Iris-versicolor']\n",
      " ['Iris-virginica']\n",
      " ['Iris-versicolor']\n",
      " ['Iris-versicolor']\n",
      " ['Iris-versicolor']\n",
      " ['Iris-versicolor']\n",
      " ['Iris-versicolor']\n",
      " ['Iris-versicolor']\n",
      " ['Iris-versicolor']\n",
      " ['Iris-virginica']]\n"
     ]
    }
   ],
   "execution_count": 114
  },
  {
   "metadata": {
    "ExecuteTime": {
     "end_time": "2024-11-26T17:12:55.891558Z",
     "start_time": "2024-11-26T17:12:55.886443Z"
    }
   },
   "cell_type": "code",
   "source": "print(y_pred)",
   "id": "8054bf874ba73302",
   "outputs": [
    {
     "name": "stdout",
     "output_type": "stream",
     "text": [
      "[['I']\n",
      " ['I']\n",
      " ['I']\n",
      " ['I']\n",
      " ['I']\n",
      " ['I']\n",
      " ['I']\n",
      " ['I']\n",
      " ['I']\n",
      " ['I']\n",
      " ['I']\n",
      " ['I']\n",
      " ['I']\n",
      " ['I']\n",
      " ['I']\n",
      " ['I']\n",
      " ['I']\n",
      " ['I']\n",
      " ['I']\n",
      " ['I']\n",
      " ['I']\n",
      " ['I']\n",
      " ['I']\n",
      " ['I']\n",
      " ['I']\n",
      " ['I']\n",
      " ['I']\n",
      " ['I']\n",
      " ['I']\n",
      " ['I']\n",
      " ['I']\n",
      " ['I']\n",
      " ['I']\n",
      " ['I']\n",
      " ['I']\n",
      " ['I']\n",
      " ['I']\n",
      " ['I']\n",
      " ['I']\n",
      " ['I']\n",
      " ['I']\n",
      " ['I']\n",
      " ['I']\n",
      " ['I']\n",
      " ['I']]\n"
     ]
    }
   ],
   "execution_count": 115
  }
 ],
 "metadata": {
  "kernelspec": {
   "display_name": "Python 3",
   "language": "python",
   "name": "python3"
  },
  "language_info": {
   "codemirror_mode": {
    "name": "ipython",
    "version": 2
   },
   "file_extension": ".py",
   "mimetype": "text/x-python",
   "name": "python",
   "nbconvert_exporter": "python",
   "pygments_lexer": "ipython2",
   "version": "2.7.6"
  }
 },
 "nbformat": 4,
 "nbformat_minor": 5
}
