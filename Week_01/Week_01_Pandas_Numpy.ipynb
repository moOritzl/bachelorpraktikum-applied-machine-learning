{
 "cells": [
  {
   "metadata": {},
   "cell_type": "markdown",
   "source": [
    "## Question 1: Pandas and Numpy\n",
    "### Task a: Read the provided text file and count the occurrences of unique words.\n",
    "\n",
    "First, we open the file and read the content of the file"
   ],
   "id": "62225a5ad50c601a"
  },
  {
   "metadata": {
    "ExecuteTime": {
     "end_time": "2024-10-16T17:55:09.644832Z",
     "start_time": "2024-10-16T17:55:09.636946Z"
    }
   },
   "cell_type": "code",
   "source": [
    "FILE_PATH = 'textfile.txt'\n",
    "with open(FILE_PATH, 'r') as f:\n",
    "    text = f.read()"
   ],
   "id": "8cbbe31ba9e5a1f6",
   "outputs": [],
   "execution_count": 1
  },
  {
   "metadata": {},
   "cell_type": "markdown",
   "source": "Then, we split the text using Python's `str.split` built-in",
   "id": "13d6dabdb1c1c221"
  },
  {
   "metadata": {
    "ExecuteTime": {
     "end_time": "2024-10-16T17:55:11.472348Z",
     "start_time": "2024-10-16T17:55:11.468505Z"
    }
   },
   "cell_type": "code",
   "source": "words = text.split()",
   "id": "7d510f7a75ece90",
   "outputs": [],
   "execution_count": 2
  },
  {
   "metadata": {},
   "cell_type": "markdown",
   "source": "We need to filter for actual words. Let's say, a string is a word if it has at least two characters and does not start with a special character. We use a set to count unique words.",
   "id": "a6bf4de428b43b81"
  },
  {
   "metadata": {
    "ExecuteTime": {
     "end_time": "2024-10-16T17:55:13.026281Z",
     "start_time": "2024-10-16T17:55:13.019667Z"
    }
   },
   "cell_type": "code",
   "source": [
    "def is_word(w):\n",
    "    if len(w) >= 2 and w[0].isalpha():\n",
    "        return True\n",
    "    else:\n",
    "        return False\n",
    "\n",
    "\n",
    "words_set = set()\n",
    "\n",
    "for w in words:\n",
    "    if is_word(w):\n",
    "        words_set.add(w)\n",
    "\n",
    "unique_words = len(words_set)\n",
    "\n",
    "print(f'Number of unique words: {unique_words}')"
   ],
   "id": "854513a0a1cad3f",
   "outputs": [
    {
     "name": "stdout",
     "output_type": "stream",
     "text": [
      "Number of unique words: 253\n"
     ]
    }
   ],
   "execution_count": 3
  },
  {
   "metadata": {},
   "cell_type": "markdown",
   "source": [
    "### Task b: Exclude common words and create a histogram\n",
    "Let's start by creating a list of all words that are not ’the’, ’a’, ’an’, or ’be’."
   ],
   "id": "736abe4430c4e2eb"
  },
  {
   "metadata": {
    "ExecuteTime": {
     "end_time": "2024-10-16T17:55:14.730513Z",
     "start_time": "2024-10-16T17:55:14.725958Z"
    }
   },
   "cell_type": "code",
   "source": [
    "forbidden_words = ['the', 'a', 'an', 'be']\n",
    "filtered_words = []\n",
    "for w in words:\n",
    "    if w not in forbidden_words and is_word(w):\n",
    "        filtered_words.append(w)"
   ],
   "id": "c38988ec68bd2b1f",
   "outputs": [],
   "execution_count": 4
  },
  {
   "metadata": {},
   "cell_type": "markdown",
   "source": "Create a dictionary to store the occurrences of the words.",
   "id": "f3f08e7c6ddb391b"
  },
  {
   "metadata": {
    "ExecuteTime": {
     "end_time": "2024-10-16T17:55:16.015998Z",
     "start_time": "2024-10-16T17:55:16.012038Z"
    }
   },
   "cell_type": "code",
   "source": [
    "word_dict = {}\n",
    "for w in filtered_words:\n",
    "    if w not in word_dict:\n",
    "        word_dict[w] = 1\n",
    "    else:\n",
    "        word_dict[w] += 1"
   ],
   "id": "7d94706d047fbcc2",
   "outputs": [],
   "execution_count": 5
  },
  {
   "metadata": {},
   "cell_type": "markdown",
   "source": "Construct a pandas DataFrame using `DataFrame.from_dict` and display the 10 most common words with a *bar chart*, sice a histogram does not seem to make sense in this case (https://www.storytellingwithdata.com/blog/2021/1/28/histograms-and-bar-charts).",
   "id": "1a632489b2332de9"
  },
  {
   "metadata": {
    "ExecuteTime": {
     "end_time": "2024-10-16T17:55:19.024501Z",
     "start_time": "2024-10-16T17:55:17.690788Z"
    }
   },
   "cell_type": "code",
   "source": [
    "import pandas as pd\n",
    "from matplotlib import pyplot as plt\n",
    "\n",
    "df = pd.DataFrame.from_dict(word_dict, orient='index', columns=['Occurrences']).sort_values(by='Occurrences',\n",
    "                                                                                            ascending=False)\n",
    "\n",
    "top_10 = df.head(10)\n",
    "plt.bar(top_10.index, top_10['Occurrences'])\n",
    "\n",
    "plt.ylabel('Occurrences')\n",
    "# for better readability\n",
    "plt.xticks(rotation=45)\n",
    "\n",
    "plt.show()\n",
    "plt.close()\n"
   ],
   "id": "ca7b1f85b7df2ba",
   "outputs": [
    {
     "data": {
      "text/plain": [
       "<Figure size 640x480 with 1 Axes>"
      ],
      "image/png": "[encoded data removed]"
     },
     "metadata": {},
     "output_type": "display_data"
    }
   ],
   "execution_count": 6
  },
  {
   "metadata": {},
   "cell_type": "markdown",
   "source": [
    "### Task c: Matrix operations with Numpy\n",
    "Create Matrix A with random values and vector v from a normal distribution."
   ],
   "id": "bb0e543cfbb5e2d3"
  },
  {
   "metadata": {
    "ExecuteTime": {
     "end_time": "2024-10-16T17:55:21.116046Z",
     "start_time": "2024-10-16T17:55:21.110782Z"
    }
   },
   "cell_type": "code",
   "source": [
    "import numpy as np\n",
    "\n",
    "A = np.random.rand(100, 20)\n",
    "\n",
    "v = np.random.normal(loc=2.0, scale=0.01, size=(20, 1))"
   ],
   "id": "c915e70c01618a2f",
   "outputs": [],
   "execution_count": 7
  },
  {
   "metadata": {},
   "cell_type": "markdown",
   "source": [
    "We iteratively multiply each row of matrix A element-wise by vector v, and accumulate the results\n",
    "into a new vector c."
   ],
   "id": "9fd8a9d0ea3bfdc3"
  },
  {
   "metadata": {
    "ExecuteTime": {
     "end_time": "2024-10-16T17:55:23.083955Z",
     "start_time": "2024-10-16T17:55:23.072425Z"
    }
   },
   "cell_type": "code",
   "source": [
    "c = np.zeros((20, 1))\n",
    "\n",
    "for i in range(20):\n",
    "    x = 0.0\n",
    "    for j in range(100):\n",
    "        x += A[j][i] * v[i]\n",
    "    c[i] = x"
   ],
   "id": "79646f9e52fd455b",
   "outputs": [],
   "execution_count": 8
  },
  {
   "metadata": {},
   "cell_type": "markdown",
   "source": "Now, we calculate the mean and standard deviation of c using `numpy.mean` and `numpy.std`",
   "id": "430d16483c4f557e"
  },
  {
   "metadata": {
    "ExecuteTime": {
     "end_time": "2024-10-16T17:55:24.584413Z",
     "start_time": "2024-10-16T17:55:24.579699Z"
    }
   },
   "cell_type": "code",
   "source": [
    "mean = np.mean(c)\n",
    "\n",
    "sdt = np.std(c)\n",
    "\n",
    "print(f'Mean: {mean:.2f}\\nStandard Deviation: {sdt:.2f}')"
   ],
   "id": "79b27668d5ad3097",
   "outputs": [
    {
     "name": "stdout",
     "output_type": "stream",
     "text": [
      "Mean: 99.79\n",
      "Standard Deviation: 6.24\n"
     ]
    }
   ],
   "execution_count": 9
  },
  {
   "metadata": {},
   "cell_type": "markdown",
   "source": "Lastly, we plot a histogram of c using 5 bins.",
   "id": "fdec0c643f667cd2"
  },
  {
   "metadata": {
    "ExecuteTime": {
     "end_time": "2024-10-16T17:55:26.335869Z",
     "start_time": "2024-10-16T17:55:26.219358Z"
    }
   },
   "cell_type": "code",
   "source": [
    "plt.hist(c, bins=5)\n",
    "\n",
    "plt.show()\n",
    "plt.close()"
   ],
   "id": "7a26047d27bd2369",
   "outputs": [
    {
     "data": {
      "text/plain": [
       "<Figure size 640x480 with 1 Axes>"
      ],
      "image/png": "[encoded data removed]"
     },
     "metadata": {},
     "output_type": "display_data"
    }
   ],
   "execution_count": 10
  }
 ],
 "metadata": {
  "kernelspec": {
   "display_name": "Python 3",
   "language": "python",
   "name": "python3"
  },
  "language_info": {
   "codemirror_mode": {
    "name": "ipython",
    "version": 2
   },
   "file_extension": ".py",
   "mimetype": "text/x-python",
   "name": "python",
   "nbconvert_exporter": "python",
   "pygments_lexer": "ipython2",
   "version": "2.7.6"
  }
 },
 "nbformat": 4,
 "nbformat_minor": 5
}
