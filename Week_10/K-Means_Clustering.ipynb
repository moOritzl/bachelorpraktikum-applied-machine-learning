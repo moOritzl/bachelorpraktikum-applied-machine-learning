{
 "cells": [
  {
   "metadata": {},
   "cell_type": "markdown",
   "source": "# Datasets",
   "id": "db10a97fa5090d65"
  },
  {
   "cell_type": "code",
   "id": "initial_id",
   "metadata": {
    "collapsed": true,
    "ExecuteTime": {
     "end_time": "2024-12-18T15:05:06.143142Z",
     "start_time": "2024-12-18T15:05:06.139329Z"
    }
   },
   "source": [
    "import numpy as np\n",
    "import pandas as pd\n",
    "from sklearn.datasets import load_svmlight_file\n",
    "import matplotlib.pyplot as plt"
   ],
   "outputs": [],
   "execution_count": 47
  },
  {
   "metadata": {},
   "cell_type": "markdown",
   "source": "# Implementation of K-Means Clustering",
   "id": "bf3c45b52cdef08e"
  },
  {
   "metadata": {},
   "cell_type": "markdown",
   "source": "We implement the class `KMeanClustering`. The implementation of the cluster-kmeans algorithm is in the `fit` method.",
   "id": "cbe1ef26c22c2804"
  },
  {
   "metadata": {
    "ExecuteTime": {
     "end_time": "2024-12-18T15:18:44.563599Z",
     "start_time": "2024-12-18T15:18:44.553096Z"
    }
   },
   "cell_type": "code",
   "source": [
    "class KMeanClustering:\n",
    "    def __init__(self, K, epsilon=1e-5, max_iter=200):\n",
    "        if K < 1:\n",
    "            raise ValueError(\"K must be greater than 0. Clustering requires at least one Cluster.\")\n",
    "        self.K = K\n",
    "        self.epsilon = epsilon\n",
    "        self.max_iter = max_iter\n",
    "        self.mu = None\n",
    "        self.P = None\n",
    "        self.inertia_ = None\n",
    "\n",
    "    def fit(self, X):\n",
    "        N, M = X.shape\n",
    "        mu = np.zeros((self.K, M))\n",
    "\n",
    "        mu[0] = X[np.random.randint(0, N)]\n",
    "\n",
    "        for k in range(1, self.K):\n",
    "            distances = np.zeros(N)\n",
    "\n",
    "            for i, x in enumerate(X):\n",
    "                distances[i] = np.sum([np.linalg.norm(x - mu[j]) for j in range(k)])\n",
    "\n",
    "            i_k = np.argmax(distances)\n",
    "            mu[k] = X[i_k]\n",
    "\n",
    "        for epoch in range(self.max_iter):\n",
    "            mu_old = mu.copy()\n",
    "            self.P = np.zeros(N, dtype=int)\n",
    "\n",
    "            for n in range(N):\n",
    "                distances_to_centroids = [np.linalg.norm(X[n] - mu[k]) for k in range(self.K)]\n",
    "                self.P[n] = np.argmin(distances_to_centroids)\n",
    "\n",
    "            for k in range(self.K):\n",
    "                points_in_cluster = X[self.P == k]\n",
    "                if len(points_in_cluster) > 0:\n",
    "                    mu[k] = np.mean(points_in_cluster, axis=0)\n",
    "\n",
    "            centroid_shift = np.linalg.norm(mu - mu_old, axis=1).mean()\n",
    "            if centroid_shift < self.epsilon:\n",
    "                break\n",
    "        else:\n",
    "            print('WARNING: Centroid shift convergence not reached.')\n",
    "\n",
    "        self.mu = mu\n",
    "\n",
    "        self.inertia_ = sum(np.linalg.norm(X[n] - mu[self.P[n]]) ** 2 for n in range(N))\n",
    "\n",
    "    def predict(self, X):\n",
    "        predictions = np.zeros(len(X), dtype=int)\n",
    "        for n in range(len(X)):\n",
    "            distances_to_centroids = [np.linalg.norm(X[n] - self.mu[k]) for k in range(self.K)]\n",
    "            predictions[n] = np.argmin(distances_to_centroids)\n",
    "        return predictions"
   ],
   "id": "4d8ae04a3ac6ea2f",
   "outputs": [],
   "execution_count": 53
  },
  {
   "metadata": {},
   "cell_type": "markdown",
   "source": [
    "According to the sheet, we can decide whether to use $D_1$ or $D_2$, so we decide to use the iris dataset $D_1$.\n",
    "\n",
    "We use `fetch_iris` from `data_handler` to fetch the dataset and `load_svmlight_file` from `sklearn.datasets` to load the file."
   ],
   "id": "b87cf15f4dc5ce3b"
  },
  {
   "metadata": {
    "ExecuteTime": {
     "end_time": "2024-12-18T15:18:48.833804Z",
     "start_time": "2024-12-18T15:18:46.309490Z"
    }
   },
   "cell_type": "code",
   "source": [
    "from data_handler import fetch_iris\n",
    "\n",
    "iris_path = 'data/iris/iris.scale'\n",
    "\n",
    "fetch_iris(iris_path)\n",
    "\n",
    "D1_data, D1_labels = load_svmlight_file(iris_path)\n",
    "\n",
    "D1_data = D1_data.toarray()"
   ],
   "id": "4862eeee71e79807",
   "outputs": [
    {
     "name": "stdout",
     "output_type": "stream",
     "text": [
      "File downloaded and saved as data/iris/iris.scale\n"
     ]
    }
   ],
   "execution_count": 54
  },
  {
   "metadata": {},
   "cell_type": "markdown",
   "source": [
    "Capturing the accuracy does not work to measure the model's performance, because of the **unsupervised** algorithm, so the cluster labels generated my K-Means do not necessarily match the original class labels. As [this article](https://opendatascience.com/unsupervised-learning-evaluating-clusters/) from opendatasience.com suggests, we use the **Elbow Method** to choose the optimal value for $K$.\n",
    "\n",
    "For each $K$, we calculate the Interia (Already implemented in the `KMeanClustering` class)\n",
    "$$\n",
    "\\text{Inertia} = \\sum_{k=1}^K \\sum_{x_i \\in C_k} \\| x_i - \\mu_k \\|^2\n",
    "$$\n",
    "and plot it to find the \"elbow\"."
   ],
   "id": "dfbf5b89c11072ec"
  },
  {
   "metadata": {
    "ExecuteTime": {
     "end_time": "2024-12-18T15:34:48.570948Z",
     "start_time": "2024-12-18T15:34:47.967974Z"
    }
   },
   "cell_type": "code",
   "source": [
    "def predict_measure_D1():\n",
    "    inertias = []\n",
    "    Ks = range(1, 10)\n",
    "\n",
    "    for K in Ks:\n",
    "        model = KMeanClustering(K)\n",
    "        model.fit(D1_data)\n",
    "\n",
    "        inertias.append(model.inertia_)\n",
    "\n",
    "    plt.figure(figsize=(8, 5))\n",
    "    plt.plot(Ks, inertias, marker='o')\n",
    "    plt.title('Elbow Method for Optimal K')\n",
    "    plt.xlabel('Number of Clusters (K)')\n",
    "    plt.ylabel('Inertia')\n",
    "    plt.grid()\n",
    "    plt.show()\n",
    "\n",
    "\n",
    "predict_measure_D1()"
   ],
   "id": "c30ed057fa23abf",
   "outputs": [
    {
     "data": {
      "text/plain": [
       "<Figure size 800x500 with 1 Axes>"
      ],
      "image/png": "[encoded data removed]"
     },
     "metadata": {},
     "output_type": "display_data"
    }
   ],
   "execution_count": 57
  },
  {
   "metadata": {},
   "cell_type": "markdown",
   "source": [
    "In this figure, we can see a sharp decrease between $K = 1$ and $K = 2$. This indicates a a significant improvement when moving from 1 to 2 clusters. A noticeable \"elbow\" appears around $K = 3$, where the rate of decrease slows down. Beyond $K = 3$, there are only slight reductions, suggesting the \"elbow\" point is likely at $K = 3$.\n",
    "\n",
    "Since we know the actual number of unique labels, we can approve the optimal value for $K$ is indeed $3$.\n",
    "\n",
    "In general, there is justified criticism of the elbow method because it is considered \"both subjective and unreliable\" ([Wikipedia](https://en.wikipedia.org/wiki/Elbow_method_(clustering)))."
   ],
   "id": "70f4db1d8166898c"
  }
 ],
 "metadata": {
  "kernelspec": {
   "display_name": "Python 3",
   "language": "python",
   "name": "python3"
  },
  "language_info": {
   "codemirror_mode": {
    "name": "ipython",
    "version": 2
   },
   "file_extension": ".py",
   "mimetype": "text/x-python",
   "name": "python",
   "nbconvert_exporter": "python",
   "pygments_lexer": "ipython2",
   "version": "2.7.6"
  }
 },
 "nbformat": 4,
 "nbformat_minor": 5
}
