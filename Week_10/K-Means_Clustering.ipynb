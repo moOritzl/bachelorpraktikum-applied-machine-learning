{
 "cells": [
  {
   "metadata": {},
   "cell_type": "markdown",
   "source": "# Datasets",
   "id": "db10a97fa5090d65"
  },
  {
   "cell_type": "code",
   "id": "initial_id",
   "metadata": {
    "collapsed": true,
    "ExecuteTime": {
     "end_time": "2024-12-20T00:07:04.639430Z",
     "start_time": "2024-12-20T00:07:04.635236Z"
    }
   },
   "source": [
    "import numpy as np\n",
    "from sklearn.cluster import KMeans\n",
    "from sklearn.datasets import load_svmlight_file\n",
    "from sklearn.feature_extraction.text import TfidfVectorizer\n",
    "from sklearn.decomposition import TruncatedSVD\n",
    "from sklearn.metrics import adjusted_rand_score, normalized_mutual_info_score\n",
    "import matplotlib.pyplot as plt\n",
    "import os\n",
    "import time"
   ],
   "outputs": [],
   "execution_count": 70
  },
  {
   "metadata": {},
   "cell_type": "markdown",
   "source": [
    "# K-Means Clustering Algorithm\n",
    "\n",
    "## Implementation\n",
    "\n",
    "We implement the class `KMeanClustering`. The implementation of the cluster-kmeans algorithm is in the `fit` method."
   ],
   "id": "cbe1ef26c22c2804"
  },
  {
   "metadata": {
    "ExecuteTime": {
     "end_time": "2024-12-20T00:07:04.655010Z",
     "start_time": "2024-12-20T00:07:04.644956Z"
    }
   },
   "cell_type": "code",
   "source": [
    "class KMeanClustering:\n",
    "    def __init__(self, K, epsilon=1e-5, max_iter=200):\n",
    "        if K < 1:\n",
    "            raise ValueError(\"K must be greater than 0. Clustering requires at least one Cluster.\")\n",
    "        self.K = K\n",
    "        self.epsilon = epsilon\n",
    "        self.max_iter = max_iter\n",
    "        self.mu = None\n",
    "        self.P = None\n",
    "        self.inertia_ = None\n",
    "\n",
    "    def fit(self, X):\n",
    "        N, M = X.shape\n",
    "        mu = np.zeros((self.K, M))\n",
    "\n",
    "        mu[0] = X[np.random.randint(0, N)]\n",
    "\n",
    "        for k in range(1, self.K):\n",
    "            distances = np.zeros(N)\n",
    "\n",
    "            for i, x in enumerate(X):\n",
    "                distances[i] = np.sum([np.linalg.norm(x - mu[j]) for j in range(k)])\n",
    "\n",
    "            i_k = np.argmax(distances)\n",
    "            mu[k] = X[i_k]\n",
    "\n",
    "        for epoch in range(self.max_iter):\n",
    "            mu_old = mu.copy()\n",
    "            self.P = np.zeros(N, dtype=int)\n",
    "\n",
    "            for n in range(N):\n",
    "                distances_to_centroids = [np.linalg.norm(X[n] - mu[k]) for k in range(self.K)]\n",
    "                self.P[n] = np.argmin(distances_to_centroids)\n",
    "\n",
    "            for k in range(self.K):\n",
    "                points_in_cluster = X[self.P == k]\n",
    "                if len(points_in_cluster) > 0:\n",
    "                    mu[k] = np.mean(points_in_cluster, axis=0)\n",
    "\n",
    "            centroid_shift = np.linalg.norm(mu - mu_old, axis=1).mean()\n",
    "            if centroid_shift < self.epsilon:\n",
    "                break\n",
    "        else:\n",
    "            print('WARNING: Centroid shift convergence not reached.')\n",
    "\n",
    "        self.mu = mu\n",
    "\n",
    "        self.inertia_ = sum(np.linalg.norm(X[n] - mu[self.P[n]]) ** 2 for n in range(N))\n",
    "\n",
    "    def predict(self, X):\n",
    "        predictions = np.zeros(len(X), dtype=int)\n",
    "        for n in range(len(X)):\n",
    "            distances_to_centroids = [np.linalg.norm(X[n] - self.mu[k]) for k in range(self.K)]\n",
    "            predictions[n] = np.argmin(distances_to_centroids)\n",
    "        return predictions"
   ],
   "id": "4d8ae04a3ac6ea2f",
   "outputs": [],
   "execution_count": 71
  },
  {
   "metadata": {},
   "cell_type": "markdown",
   "source": [
    "## Evaluation\n",
    "\n",
    "According to the sheet, we can decide whether to use $D_1$ or $D_2$, so we decide to use the iris dataset $D_1$.\n",
    "\n",
    "We use `fetch_iris` from `data_handler` to fetch the dataset and `load_svmlight_file` from `sklearn.datasets` to load the file. In `handle_sparsity`, we calculate the sparsity and convert the data to a dense numpy array."
   ],
   "id": "b87cf15f4dc5ce3b"
  },
  {
   "metadata": {
    "ExecuteTime": {
     "end_time": "2024-12-20T00:07:07.223873Z",
     "start_time": "2024-12-20T00:07:04.675390Z"
    }
   },
   "cell_type": "code",
   "source": [
    "from data_handler import fetch_iris\n",
    "\n",
    "iris_path = 'data/iris/iris.scale'\n",
    "\n",
    "fetch_iris(iris_path)\n",
    "\n",
    "D1_data, D1_labels = load_svmlight_file(iris_path)\n",
    "\n",
    "\n",
    "def handle_sparsity(X):\n",
    "    zero_portion = 1 - X.nnz / (X.shape[0] * X.shape[1])\n",
    "    print(f\"Sparsity: {zero_portion:.2%}\")\n",
    "\n",
    "    return X.toarray()  # convert to numpy array and convert to dense array.\n",
    "\n",
    "\n",
    "D1_data = handle_sparsity(D1_data)"
   ],
   "id": "4862eeee71e79807",
   "outputs": [
    {
     "name": "stdout",
     "output_type": "stream",
     "text": [
      "File downloaded and saved as data/iris/iris.scale\n",
      "Sparsity: 2.17%\n"
     ]
    }
   ],
   "execution_count": 72
  },
  {
   "metadata": {},
   "cell_type": "markdown",
   "source": [
    "### Elbow-Method\n",
    "\n",
    "Capturing the accuracy does not work to measure the model's performance, because of the **unsupervised** algorithm, so the cluster labels generated my K-Means do not necessarily match the original class labels. As [this article](https://opendatascience.com/unsupervised-learning-evaluating-clusters/) from opendatasience.com suggests, we use the **Elbow Method** to choose the optimal value for $K$.\n",
    "\n",
    "For each $K$, we calculate the Interia (Already implemented in the `KMeanClustering` class)\n",
    "$$\n",
    "\\text{Inertia} = \\sum_{k=1}^K \\sum_{x_i \\in C_k} \\| x_i - \\mu_k \\|^2\n",
    "$$\n",
    "and plot it to find the \"elbow\"."
   ],
   "id": "dfbf5b89c11072ec"
  },
  {
   "metadata": {
    "ExecuteTime": {
     "end_time": "2024-12-20T00:07:07.838906Z",
     "start_time": "2024-12-20T00:07:07.242819Z"
    }
   },
   "cell_type": "code",
   "source": [
    "def cluster_elbow(data, Ks):\n",
    "    inertias = []\n",
    "\n",
    "    for K in Ks:\n",
    "        model = KMeanClustering(K)\n",
    "        model.fit(data)\n",
    "\n",
    "        inertias.append(model.inertia_)\n",
    "\n",
    "    plt.figure(figsize=(8, 5))\n",
    "    plt.plot(Ks, inertias, marker='o')\n",
    "    plt.title('Elbow Method for Optimal K')\n",
    "    plt.xlabel('Number of Clusters (K)')\n",
    "    plt.ylabel('Inertia')\n",
    "    plt.grid()\n",
    "    plt.show()\n",
    "\n",
    "\n",
    "cluster_elbow(D1_data, range(1, 10))"
   ],
   "id": "c30ed057fa23abf",
   "outputs": [
    {
     "data": {
      "text/plain": [
       "<Figure size 800x500 with 1 Axes>"
      ],
      "image/png": "[encoded data removed]"
     },
     "metadata": {},
     "output_type": "display_data"
    }
   ],
   "execution_count": 73
  },
  {
   "metadata": {},
   "cell_type": "markdown",
   "source": [
    "In this figure, we can see a sharp decrease between $K = 1$ and $K = 2$. This indicates a a significant improvement when moving from 1 to 2 clusters. A noticeable \"elbow\" appears around $K = 3$, where the rate of decrease slows down. Beyond $K = 3$, there are only slight reductions, suggesting the \"elbow\" point is likely at $K = 3$.\n",
    "\n",
    "Since we know the actual number of unique labels, we can approve the optimal value for $K$ is indeed $3$.\n",
    "\n",
    "In general, there is justified criticism of the elbow method because it is considered \"both subjective and unreliable\" ([Wikipedia](https://en.wikipedia.org/wiki/Elbow_method_(clustering)))."
   ],
   "id": "70f4db1d8166898c"
  },
  {
   "metadata": {},
   "cell_type": "markdown",
   "source": [
    "# Cluster News Articles\n",
    "\n",
    "## Pre-Processing\n",
    "We pre-process the data. First, we load the dataset from the provided directories. Then, we vectorize the text data to convert the documents into numerical feature representations. Since the resulting feature space is high-dimensional, we apply dimensionality reduction. Finally, we store the processed data in the LIBSVM format to simplify future loading and avoid repeated pre-processing.\n",
    "\n",
    "### Loading the data\n",
    "\n",
    "First, we load the 20Newsgroups dataset from the train and test directories."
   ],
   "id": "5cc178064b456ba"
  },
  {
   "metadata": {
    "ExecuteTime": {
     "end_time": "2024-12-20T00:07:07.865747Z",
     "start_time": "2024-12-20T00:07:07.859874Z"
    }
   },
   "cell_type": "code",
   "source": [
    "def load_texts(path):\n",
    "    labels = []\n",
    "    texts = []\n",
    "    label_names = []\n",
    "\n",
    "    for label_idx, category in enumerate(sorted(os.listdir(path))):\n",
    "        category_path = os.path.join(path, category)\n",
    "\n",
    "        label_names.append(category)\n",
    "\n",
    "        for file_name in sorted(os.listdir(category_path)):\n",
    "            file_path = os.path.join(category_path, file_name)\n",
    "\n",
    "            with open(file_path, 'r') as f:\n",
    "                texts.append(f.read())\n",
    "                labels.append(label_idx)\n",
    "\n",
    "    return labels, texts, label_names"
   ],
   "id": "4f480eb1fb4c82b7",
   "outputs": [],
   "execution_count": 74
  },
  {
   "metadata": {},
   "cell_type": "markdown",
   "source": [
    "### Vectorization\n",
    "\n",
    "Like last week, we use `TfidfVectorizer` from sklearn's feature extraction with stop word removal."
   ],
   "id": "79f656823519eeaa"
  },
  {
   "metadata": {
    "ExecuteTime": {
     "end_time": "2024-12-20T00:07:07.893466Z",
     "start_time": "2024-12-20T00:07:07.889044Z"
    }
   },
   "cell_type": "code",
   "source": [
    "def vectorize_texts(train_texts, test_texts):\n",
    "    vectorizer = TfidfVectorizer(stop_words='english')\n",
    "\n",
    "    X_train_tfidf = vectorizer.fit_transform(train_texts)\n",
    "    X_test_tfidf = vectorizer.transform(test_texts)\n",
    "\n",
    "    return X_train_tfidf, X_test_tfidf"
   ],
   "id": "d620d811176e2cf2",
   "outputs": [],
   "execution_count": 75
  },
  {
   "metadata": {},
   "cell_type": "markdown",
   "source": [
    "### Dimensionality Reduction\n",
    "\n",
    "Since these are way to many dimensions, we reduce the dimensionality like last week using `TruncatedSVD` from sklearn's decomposition."
   ],
   "id": "cb72a88d49065f10"
  },
  {
   "metadata": {
    "ExecuteTime": {
     "end_time": "2024-12-20T00:07:07.922594Z",
     "start_time": "2024-12-20T00:07:07.917176Z"
    }
   },
   "cell_type": "code",
   "source": [
    "def reduce_dimensions(X_train_tfidf, X_test_tfidf):\n",
    "    svd = TruncatedSVD(n_components=1000, random_state=42)\n",
    "\n",
    "    X_train_reduced = svd.fit_transform(X_train_tfidf)\n",
    "    X_test_reduced = svd.transform(X_test_tfidf)\n",
    "\n",
    "    return X_train_reduced, X_test_reduced"
   ],
   "id": "33031b04ee6293d5",
   "outputs": [],
   "execution_count": 76
  },
  {
   "metadata": {},
   "cell_type": "markdown",
   "source": [
    "### Store in LIBSVM Format\n",
    "\n",
    "Lastly, we store the data in the LIBSVM file format. Luckily, we have an implementation for that from last week as well :) We just need minor changes to properly iterate through the non-zero elements."
   ],
   "id": "74e5bf0226a87cc6"
  },
  {
   "metadata": {
    "ExecuteTime": {
     "end_time": "2024-12-20T00:07:07.950008Z",
     "start_time": "2024-12-20T00:07:07.945281Z"
    }
   },
   "cell_type": "code",
   "source": [
    "def to_LIBSVM(data, labels, file_name):\n",
    "    with open(file_name, 'w') as f:\n",
    "        for i, row in enumerate(data):\n",
    "            label = labels[i]\n",
    "            non_zero = zip(np.nonzero(row)[0], row[np.nonzero(row)])\n",
    "            features = ' '.join(f'{j + 1}:{v}' for j, v in non_zero)\n",
    "            f.write(f'{label} {features}\\n')"
   ],
   "id": "7748c2c109243937",
   "outputs": [],
   "execution_count": 77
  },
  {
   "metadata": {},
   "cell_type": "markdown",
   "source": [
    "### Retrieving Preprocessed Data\n",
    "\n",
    "To avoid repeated pre-processing, we pre-process the data once and save it in the LIBSVM file format. Then we load the data from the files."
   ],
   "id": "e1a86f95370796eb"
  },
  {
   "metadata": {
    "ExecuteTime": {
     "end_time": "2024-12-20T00:09:57.294515Z",
     "start_time": "2024-12-20T00:07:07.969630Z"
    }
   },
   "cell_type": "code",
   "source": [
    "PATH_TRAIN = 'data/20news-bydate/20news-train-preprocessed-libsvm.txt'\n",
    "PATH_TEST = 'data/20news-bydate/20news-test-preprocessed-libsvm.txt'\n",
    "\n",
    "if not os.path.exists(PATH_TRAIN) or not os.path.exists(PATH_TEST):\n",
    "    train_labels, train_texts, label_names = load_texts('data/20news-bydate/20news-bydate-train')\n",
    "    test_labels, test_texts, _ = load_texts('data/20news-bydate/20news-bydate-test')\n",
    "\n",
    "    X_train_tfidf, X_test_tfidf = vectorize_texts(train_texts, test_texts)\n",
    "\n",
    "    X_train_reduced, X_test_reduced = reduce_dimensions(X_train_tfidf, X_test_tfidf)\n",
    "\n",
    "    to_LIBSVM(X_train_reduced, train_labels, PATH_TRAIN)\n",
    "    to_LIBSVM(X_test_reduced, test_labels, PATH_TEST)\n",
    "\n",
    "D3_data_train, D3_labels_train = load_svmlight_file(PATH_TRAIN)\n",
    "D3_data_test, D3_labels_test = load_svmlight_file(PATH_TEST)\n",
    "\n",
    "D3_data_train, D3_data_test = D3_data_train.toarray(), D3_data_test.toarray()"
   ],
   "id": "7f053c7310491f13",
   "outputs": [],
   "execution_count": 78
  },
  {
   "metadata": {},
   "cell_type": "markdown",
   "source": [
    "## Clustering with our Implementation\n",
    "\n",
    "The **adjusted random score** (ARS) measures the similarity between two clusterings ([Wikipedia](https://en.wikipedia.org/wiki/Rand_index)). The score ranges from -1 to 1 where 1 is perfect agreement, 0 is random clustering and -1 is worse than random agreement.\n",
    "\n",
    "The **Normalized Mutual Information Score** (NMI) measures the mutual dependence between two clusterings ([Wikipedia](https://en.wikipedia.org/wiki/Mutual_information)). The score ranges from 0 to 1 where 1 is perfect agreement and 0 is no shared information."
   ],
   "id": "f5a2428147cd3d79"
  },
  {
   "metadata": {
    "ExecuteTime": {
     "end_time": "2024-12-20T00:22:49.141637Z",
     "start_time": "2024-12-20T00:22:22.817583Z"
    }
   },
   "cell_type": "code",
   "source": [
    "def cluster_and_measure_quality():\n",
    "    start_time = time.time()\n",
    "    model = KMeanClustering(20)\n",
    "    model.fit(D3_data_train)\n",
    "\n",
    "    test_predictions = model.predict(D3_data_test)\n",
    "    end_time = time.time()\n",
    "\n",
    "    ari_score = adjusted_rand_score(D3_labels_test, test_predictions)\n",
    "    nmi_score = normalized_mutual_info_score(D3_labels_test, test_predictions)\n",
    "\n",
    "    print(f'Adjusted Rand Index: {ari_score:.4f}')\n",
    "    print(f'Normalized Mutual Information: {nmi_score:.4f}')\n",
    "    print(f'Elapsed Time: {(end_time - start_time):.2f} s')\n",
    "\n",
    "\n",
    "cluster_and_measure_quality()"
   ],
   "id": "c90e954765e4270a",
   "outputs": [
    {
     "name": "stdout",
     "output_type": "stream",
     "text": [
      "Adjusted Rand Index: 0.0025\n",
      "Normalized Mutual Information: 0.0793\n",
      "Elapsed Time: 26.32 s\n"
     ]
    }
   ],
   "execution_count": 84
  },
  {
   "metadata": {},
   "cell_type": "markdown",
   "source": "The scores are both very bad. The ARI score suggests that the clustering is almost random. The NMI score suggests that there is almost no shared information. Either the model is very bad, or there are no patterns in the data that the model could recognize.",
   "id": "138a20b28b081360"
  },
  {
   "metadata": {},
   "cell_type": "markdown",
   "source": "## Comparison to Sklearn's model",
   "id": "ce6706f9fe2239dd"
  },
  {
   "metadata": {
    "ExecuteTime": {
     "end_time": "2024-12-20T00:22:49.954611Z",
     "start_time": "2024-12-20T00:22:49.166826Z"
    }
   },
   "cell_type": "code",
   "source": [
    "def cluster_and_measure_quality_library():\n",
    "    start_time = time.time()\n",
    "    kmeans = KMeans(n_clusters=20, random_state=69)\n",
    "    kmeans.fit(D3_data_train)\n",
    "\n",
    "    test_predictions = kmeans.predict(D3_data_test)\n",
    "    end_time = time.time()\n",
    "\n",
    "    ari_score = adjusted_rand_score(D3_labels_test, test_predictions)\n",
    "    nmi_score = normalized_mutual_info_score(D3_labels_test, test_predictions)\n",
    "\n",
    "    print(f'Adjusted Rand Index: {ari_score:.4f}')\n",
    "    print(f'Normalized Mutual Information: {nmi_score:.4f}')\n",
    "    print(f'Elapsed Time: {(end_time - start_time):.2f} s')\n",
    "\n",
    "\n",
    "cluster_and_measure_quality_library()"
   ],
   "id": "6d10223dd2281e4",
   "outputs": [
    {
     "name": "stdout",
     "output_type": "stream",
     "text": [
      "Adjusted Rand Index: 0.0674\n",
      "Normalized Mutual Information: 0.3290\n",
      "Elapsed Time: 0.78 s\n"
     ]
    }
   ],
   "execution_count": 85
  },
  {
   "metadata": {},
   "cell_type": "markdown",
   "source": [
    "The results for Sklearn’s KMeans are also poor, with low ARI and NMI scores. This indicates either issues in the preprocessing or that no clear patterns exist in the data. However, Sklearn’s model is significantly faster, with an elapsed time about **34 times shorter** than our implementation.\n",
    "\n",
    "\n",
    "We could improve these results with further feature engineering, but it's already late, and I'm invited to two birthday parties this weekend, and I want to finish the Christmas present for my grandparents.\n",
    "\n",
    "Wishing you a peaceful holiday season and a Happy New Year!\n",
    "\n"
   ],
   "id": "e72a30c04ec806fd"
  }
 ],
 "metadata": {
  "kernelspec": {
   "display_name": "Python 3",
   "language": "python",
   "name": "python3"
  },
  "language_info": {
   "codemirror_mode": {
    "name": "ipython",
    "version": 2
   },
   "file_extension": ".py",
   "mimetype": "text/x-python",
   "name": "python",
   "nbconvert_exporter": "python",
   "pygments_lexer": "ipython2",
   "version": "2.7.6"
  }
 },
 "nbformat": 4,
 "nbformat_minor": 5
}
